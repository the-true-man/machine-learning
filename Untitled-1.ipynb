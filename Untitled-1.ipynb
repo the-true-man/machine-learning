{
 "cells": [
  {
   "cell_type": "code",
   "execution_count": 1,
   "metadata": {},
   "outputs": [
    {
     "name": "stdout",
     "output_type": "stream",
     "text": [
      "Model: Linear Regression, MSE: 568814127.94, R^2 Score: 0.71\n",
      "Model: Decision Tree, MSE: 649617380.31, R^2 Score: 0.67\n",
      "Model: Random Forest, MSE: 505527770.47, R^2 Score: 0.74\n"
     ]
    }
   ],
   "source": [
    "import pandas as pd\n",
    "from sklearn.model_selection import train_test_split\n",
    "from sklearn.preprocessing import StandardScaler\n",
    "from sklearn.linear_model import LinearRegression\n",
    "from sklearn.tree import DecisionTreeRegressor\n",
    "from sklearn.ensemble import RandomForestRegressor\n",
    "from sklearn.metrics import mean_squared_error, r2_score\n",
    "\n",
    "# Загрузка данных\n",
    "file_path = 'laptopPrice.csv'\n",
    "data = pd.read_csv(file_path)\n",
    "\n",
    "# Выбор признаков и целевой переменной\n",
    "X = data.drop(columns=['Price'])\n",
    "Y = data['Price']\n",
    "\n",
    "# Преобразование категориальных переменных в дамми-переменные\n",
    "X = pd.get_dummies(X, drop_first=True)\n",
    "\n",
    "# Разделение на обучающую и тестовую выборки\n",
    "X_train, X_test, Y_train, Y_test = train_test_split(X, Y, test_size=0.2, random_state=42)\n",
    "\n",
    "# Нормализация данных\n",
    "scaler = StandardScaler()\n",
    "X_train = scaler.fit_transform(X_train)\n",
    "X_test = scaler.transform(X_test)\n",
    "\n",
    "# Обучение моделей\n",
    "models = {\n",
    "    'Linear Regression': LinearRegression(),\n",
    "    'Decision Tree': DecisionTreeRegressor(),\n",
    "    'Random Forest': RandomForestRegressor()\n",
    "}\n",
    "\n",
    "results = {}\n",
    "for name, model in models.items():\n",
    "    model.fit(X_train, Y_train)\n",
    "    Y_pred = model.predict(X_test)\n",
    "    mse = mean_squared_error(Y_test, Y_pred)\n",
    "    r2 = r2_score(Y_test, Y_pred)\n",
    "    results[name] = {'MSE': mse, 'R^2 Score': r2}\n",
    "\n",
    "for model_name, metrics in results.items():\n",
    "    print(f'Model: {model_name}, MSE: {metrics[\"MSE\"]:.2f}, R^2 Score: {metrics[\"R^2 Score\"]:.2f}')\n"
   ]
  }
 ],
 "metadata": {
  "kernelspec": {
   "display_name": "base",
   "language": "python",
   "name": "python3"
  },
  "language_info": {
   "codemirror_mode": {
    "name": "ipython",
    "version": 3
   },
   "file_extension": ".py",
   "mimetype": "text/x-python",
   "name": "python",
   "nbconvert_exporter": "python",
   "pygments_lexer": "ipython3",
   "version": "3.12.4"
  }
 },
 "nbformat": 4,
 "nbformat_minor": 2
}

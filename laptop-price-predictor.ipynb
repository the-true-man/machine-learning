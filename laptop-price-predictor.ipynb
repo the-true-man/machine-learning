{
 "cells": [
  {
   "cell_type": "code",
   "execution_count": 82,
   "id": "32b565df",
   "metadata": {
    "_cell_guid": "b1076dfc-b9ad-4769-8c92-a6c4dae69d19",
    "_uuid": "8f2839f25d086af736a60e9eeb907d3b93b6e0e5",
    "execution": {
     "iopub.execute_input": "2023-11-27T22:12:36.316738Z",
     "iopub.status.busy": "2023-11-27T22:12:36.316331Z",
     "iopub.status.idle": "2023-11-27T22:12:37.132512Z",
     "shell.execute_reply": "2023-11-27T22:12:37.131408Z"
    },
    "papermill": {
     "duration": 0.837207,
     "end_time": "2023-11-27T22:12:37.134914",
     "exception": false,
     "start_time": "2023-11-27T22:12:36.297707",
     "status": "completed"
    },
    "tags": []
   },
   "outputs": [],
   "source": [
    "\n",
    "\n",
    "import numpy as np \n",
    "import pandas as pd"
   ]
  },
  {
   "cell_type": "code",
   "execution_count": 83,
   "id": "a68e89a6",
   "metadata": {
    "execution": {
     "iopub.execute_input": "2023-11-27T22:12:37.169722Z",
     "iopub.status.busy": "2023-11-27T22:12:37.169140Z",
     "iopub.status.idle": "2023-11-27T22:12:38.717452Z",
     "shell.execute_reply": "2023-11-27T22:12:38.716521Z"
    },
    "papermill": {
     "duration": 1.568156,
     "end_time": "2023-11-27T22:12:38.719782",
     "exception": false,
     "start_time": "2023-11-27T22:12:37.151626",
     "status": "completed"
    },
    "tags": []
   },
   "outputs": [],
   "source": [
    "\n",
    "import seaborn as sns\n",
    "import matplotlib.pyplot as plt\n",
    "%matplotlib inline\n",
    "\n",
    "import warnings\n",
    "warnings.filterwarnings('ignore')"
   ]
  },
  {
   "cell_type": "code",
   "execution_count": 84,
   "id": "0026374c",
   "metadata": {
    "execution": {
     "iopub.execute_input": "2023-11-27T22:12:38.754023Z",
     "iopub.status.busy": "2023-11-27T22:12:38.753623Z",
     "iopub.status.idle": "2023-11-27T22:12:38.779941Z",
     "shell.execute_reply": "2023-11-27T22:12:38.778913Z"
    },
    "papermill": {
     "duration": 0.046799,
     "end_time": "2023-11-27T22:12:38.782744",
     "exception": false,
     "start_time": "2023-11-27T22:12:38.735945",
     "status": "completed"
    },
    "tags": []
   },
   "outputs": [],
   "source": [
    "# head() method showcased the initial rows, offering insight into column names and data format.\n",
    "df = pd.read_csv('laptopPrice.csv')"
   ]
  },
  {
   "cell_type": "code",
   "execution_count": 85,
   "id": "c8457fcf",
   "metadata": {
    "execution": {
     "iopub.execute_input": "2023-11-27T22:12:38.819693Z",
     "iopub.status.busy": "2023-11-27T22:12:38.819297Z",
     "iopub.status.idle": "2023-11-27T22:12:38.847902Z",
     "shell.execute_reply": "2023-11-27T22:12:38.846815Z"
    },
    "papermill": {
     "duration": 0.049748,
     "end_time": "2023-11-27T22:12:38.850370",
     "exception": false,
     "start_time": "2023-11-27T22:12:38.800622",
     "status": "completed"
    },
    "tags": []
   },
   "outputs": [
    {
     "data": {
      "text/html": [
       "<div>\n",
       "<style scoped>\n",
       "    .dataframe tbody tr th:only-of-type {\n",
       "        vertical-align: middle;\n",
       "    }\n",
       "\n",
       "    .dataframe tbody tr th {\n",
       "        vertical-align: top;\n",
       "    }\n",
       "\n",
       "    .dataframe thead th {\n",
       "        text-align: right;\n",
       "    }\n",
       "</style>\n",
       "<table border=\"1\" class=\"dataframe\">\n",
       "  <thead>\n",
       "    <tr style=\"text-align: right;\">\n",
       "      <th></th>\n",
       "      <th>brand</th>\n",
       "      <th>processor_brand</th>\n",
       "      <th>processor_name</th>\n",
       "      <th>processor_gnrtn</th>\n",
       "      <th>ram_gb</th>\n",
       "      <th>ram_type</th>\n",
       "      <th>ssd</th>\n",
       "      <th>hdd</th>\n",
       "      <th>os</th>\n",
       "      <th>os_bit</th>\n",
       "      <th>graphic_card_gb</th>\n",
       "      <th>weight</th>\n",
       "      <th>warranty</th>\n",
       "      <th>Touchscreen</th>\n",
       "      <th>msoffice</th>\n",
       "      <th>Price</th>\n",
       "      <th>rating</th>\n",
       "      <th>Number of Ratings</th>\n",
       "      <th>Number of Reviews</th>\n",
       "    </tr>\n",
       "  </thead>\n",
       "  <tbody>\n",
       "    <tr>\n",
       "      <th>0</th>\n",
       "      <td>ASUS</td>\n",
       "      <td>Intel</td>\n",
       "      <td>Core i3</td>\n",
       "      <td>10th</td>\n",
       "      <td>4 GB</td>\n",
       "      <td>DDR4</td>\n",
       "      <td>0 GB</td>\n",
       "      <td>1024 GB</td>\n",
       "      <td>Windows</td>\n",
       "      <td>64-bit</td>\n",
       "      <td>0 GB</td>\n",
       "      <td>Casual</td>\n",
       "      <td>No warranty</td>\n",
       "      <td>No</td>\n",
       "      <td>No</td>\n",
       "      <td>34649</td>\n",
       "      <td>2 stars</td>\n",
       "      <td>3</td>\n",
       "      <td>0</td>\n",
       "    </tr>\n",
       "    <tr>\n",
       "      <th>1</th>\n",
       "      <td>Lenovo</td>\n",
       "      <td>Intel</td>\n",
       "      <td>Core i3</td>\n",
       "      <td>10th</td>\n",
       "      <td>4 GB</td>\n",
       "      <td>DDR4</td>\n",
       "      <td>0 GB</td>\n",
       "      <td>1024 GB</td>\n",
       "      <td>Windows</td>\n",
       "      <td>64-bit</td>\n",
       "      <td>0 GB</td>\n",
       "      <td>Casual</td>\n",
       "      <td>No warranty</td>\n",
       "      <td>No</td>\n",
       "      <td>No</td>\n",
       "      <td>38999</td>\n",
       "      <td>3 stars</td>\n",
       "      <td>65</td>\n",
       "      <td>5</td>\n",
       "    </tr>\n",
       "    <tr>\n",
       "      <th>2</th>\n",
       "      <td>Lenovo</td>\n",
       "      <td>Intel</td>\n",
       "      <td>Core i3</td>\n",
       "      <td>10th</td>\n",
       "      <td>4 GB</td>\n",
       "      <td>DDR4</td>\n",
       "      <td>0 GB</td>\n",
       "      <td>1024 GB</td>\n",
       "      <td>Windows</td>\n",
       "      <td>64-bit</td>\n",
       "      <td>0 GB</td>\n",
       "      <td>Casual</td>\n",
       "      <td>No warranty</td>\n",
       "      <td>No</td>\n",
       "      <td>No</td>\n",
       "      <td>39999</td>\n",
       "      <td>3 stars</td>\n",
       "      <td>8</td>\n",
       "      <td>1</td>\n",
       "    </tr>\n",
       "    <tr>\n",
       "      <th>3</th>\n",
       "      <td>ASUS</td>\n",
       "      <td>Intel</td>\n",
       "      <td>Core i5</td>\n",
       "      <td>10th</td>\n",
       "      <td>8 GB</td>\n",
       "      <td>DDR4</td>\n",
       "      <td>512 GB</td>\n",
       "      <td>0 GB</td>\n",
       "      <td>Windows</td>\n",
       "      <td>32-bit</td>\n",
       "      <td>2 GB</td>\n",
       "      <td>Casual</td>\n",
       "      <td>No warranty</td>\n",
       "      <td>No</td>\n",
       "      <td>No</td>\n",
       "      <td>69990</td>\n",
       "      <td>3 stars</td>\n",
       "      <td>0</td>\n",
       "      <td>0</td>\n",
       "    </tr>\n",
       "    <tr>\n",
       "      <th>4</th>\n",
       "      <td>ASUS</td>\n",
       "      <td>Intel</td>\n",
       "      <td>Celeron Dual</td>\n",
       "      <td>Not Available</td>\n",
       "      <td>4 GB</td>\n",
       "      <td>DDR4</td>\n",
       "      <td>0 GB</td>\n",
       "      <td>512 GB</td>\n",
       "      <td>Windows</td>\n",
       "      <td>64-bit</td>\n",
       "      <td>0 GB</td>\n",
       "      <td>Casual</td>\n",
       "      <td>No warranty</td>\n",
       "      <td>No</td>\n",
       "      <td>No</td>\n",
       "      <td>26990</td>\n",
       "      <td>3 stars</td>\n",
       "      <td>0</td>\n",
       "      <td>0</td>\n",
       "    </tr>\n",
       "  </tbody>\n",
       "</table>\n",
       "</div>"
      ],
      "text/plain": [
       "    brand processor_brand processor_name processor_gnrtn ram_gb ram_type  \\\n",
       "0    ASUS           Intel        Core i3            10th   4 GB     DDR4   \n",
       "1  Lenovo           Intel        Core i3            10th   4 GB     DDR4   \n",
       "2  Lenovo           Intel        Core i3            10th   4 GB     DDR4   \n",
       "3    ASUS           Intel        Core i5            10th   8 GB     DDR4   \n",
       "4    ASUS           Intel   Celeron Dual   Not Available   4 GB     DDR4   \n",
       "\n",
       "      ssd      hdd       os  os_bit graphic_card_gb  weight     warranty  \\\n",
       "0    0 GB  1024 GB  Windows  64-bit            0 GB  Casual  No warranty   \n",
       "1    0 GB  1024 GB  Windows  64-bit            0 GB  Casual  No warranty   \n",
       "2    0 GB  1024 GB  Windows  64-bit            0 GB  Casual  No warranty   \n",
       "3  512 GB     0 GB  Windows  32-bit            2 GB  Casual  No warranty   \n",
       "4    0 GB   512 GB  Windows  64-bit            0 GB  Casual  No warranty   \n",
       "\n",
       "  Touchscreen msoffice  Price   rating  Number of Ratings  Number of Reviews  \n",
       "0          No       No  34649  2 stars                  3                  0  \n",
       "1          No       No  38999  3 stars                 65                  5  \n",
       "2          No       No  39999  3 stars                  8                  1  \n",
       "3          No       No  69990  3 stars                  0                  0  \n",
       "4          No       No  26990  3 stars                  0                  0  "
      ]
     },
     "execution_count": 85,
     "metadata": {},
     "output_type": "execute_result"
    }
   ],
   "source": [
    "df.head()"
   ]
  },
  {
   "cell_type": "code",
   "execution_count": 86,
   "id": "b6cc59fa",
   "metadata": {
    "execution": {
     "iopub.execute_input": "2023-11-27T22:12:38.885698Z",
     "iopub.status.busy": "2023-11-27T22:12:38.885317Z",
     "iopub.status.idle": "2023-11-27T22:12:38.891882Z",
     "shell.execute_reply": "2023-11-27T22:12:38.890846Z"
    },
    "papermill": {
     "duration": 0.026489,
     "end_time": "2023-11-27T22:12:38.893929",
     "exception": false,
     "start_time": "2023-11-27T22:12:38.867440",
     "status": "completed"
    },
    "tags": []
   },
   "outputs": [
    {
     "data": {
      "text/plain": [
       "Index(['brand', 'processor_brand', 'processor_name', 'processor_gnrtn',\n",
       "       'ram_gb', 'ram_type', 'ssd', 'hdd', 'os', 'os_bit', 'graphic_card_gb',\n",
       "       'weight', 'warranty', 'Touchscreen', 'msoffice', 'Price', 'rating',\n",
       "       'Number of Ratings', 'Number of Reviews'],\n",
       "      dtype='object')"
      ]
     },
     "execution_count": 86,
     "metadata": {},
     "output_type": "execute_result"
    }
   ],
   "source": [
    "df.columns"
   ]
  },
  {
   "cell_type": "code",
   "execution_count": 87,
   "id": "688a4c45",
   "metadata": {
    "execution": {
     "iopub.execute_input": "2023-11-27T22:12:38.930361Z",
     "iopub.status.busy": "2023-11-27T22:12:38.929552Z",
     "iopub.status.idle": "2023-11-27T22:12:38.943138Z",
     "shell.execute_reply": "2023-11-27T22:12:38.942165Z"
    },
    "papermill": {
     "duration": 0.034283,
     "end_time": "2023-11-27T22:12:38.945496",
     "exception": false,
     "start_time": "2023-11-27T22:12:38.911213",
     "status": "completed"
    },
    "tags": []
   },
   "outputs": [],
   "source": [
    "# select few feature to predict the price of laptop\n",
    "selected_columns = ['brand', 'processor_brand', 'processor_name', 'processor_gnrtn',\n",
    "                    'ram_gb', 'ram_type', 'ssd', 'hdd', 'os', 'os_bit', 'graphic_card_gb',\n",
    "                    'weight', 'warranty', 'Touchscreen', 'Price']\n",
    "df_train = df[selected_columns]"
   ]
  },
  {
   "cell_type": "code",
   "execution_count": 88,
   "id": "6d099476",
   "metadata": {
    "execution": {
     "iopub.execute_input": "2023-11-27T22:12:38.980928Z",
     "iopub.status.busy": "2023-11-27T22:12:38.980309Z",
     "iopub.status.idle": "2023-11-27T22:12:38.989842Z",
     "shell.execute_reply": "2023-11-27T22:12:38.988731Z"
    },
    "papermill": {
     "duration": 0.029924,
     "end_time": "2023-11-27T22:12:38.992061",
     "exception": false,
     "start_time": "2023-11-27T22:12:38.962137",
     "status": "completed"
    },
    "tags": []
   },
   "outputs": [
    {
     "data": {
      "text/plain": [
       "brand              0\n",
       "processor_brand    0\n",
       "processor_name     0\n",
       "processor_gnrtn    0\n",
       "ram_gb             0\n",
       "ram_type           0\n",
       "ssd                0\n",
       "hdd                0\n",
       "os                 0\n",
       "os_bit             0\n",
       "graphic_card_gb    0\n",
       "weight             0\n",
       "warranty           0\n",
       "Touchscreen        0\n",
       "Price              0\n",
       "dtype: int64"
      ]
     },
     "execution_count": 88,
     "metadata": {},
     "output_type": "execute_result"
    }
   ],
   "source": [
    "# check Null values in data column\n",
    "df_train.isnull().sum()"
   ]
  },
  {
   "cell_type": "code",
   "execution_count": 89,
   "id": "f8b9a509",
   "metadata": {
    "execution": {
     "iopub.execute_input": "2023-11-27T22:12:39.027142Z",
     "iopub.status.busy": "2023-11-27T22:12:39.026771Z",
     "iopub.status.idle": "2023-11-27T22:12:39.043430Z",
     "shell.execute_reply": "2023-11-27T22:12:39.042068Z"
    },
    "papermill": {
     "duration": 0.038219,
     "end_time": "2023-11-27T22:12:39.046946",
     "exception": false,
     "start_time": "2023-11-27T22:12:39.008727",
     "status": "completed"
    },
    "tags": []
   },
   "outputs": [
    {
     "data": {
      "text/plain": [
       "41"
      ]
     },
     "execution_count": 89,
     "metadata": {},
     "output_type": "execute_result"
    }
   ],
   "source": [
    "# checking for duplicated rows\n",
    "df_train.duplicated().sum()"
   ]
  },
  {
   "cell_type": "code",
   "execution_count": 90,
   "id": "f03364b0",
   "metadata": {
    "execution": {
     "iopub.execute_input": "2023-11-27T22:12:39.155635Z",
     "iopub.status.busy": "2023-11-27T22:12:39.155262Z",
     "iopub.status.idle": "2023-11-27T22:12:39.176182Z",
     "shell.execute_reply": "2023-11-27T22:12:39.174734Z"
    },
    "papermill": {
     "duration": 0.109149,
     "end_time": "2023-11-27T22:12:39.179098",
     "exception": false,
     "start_time": "2023-11-27T22:12:39.069949",
     "status": "completed"
    },
    "tags": []
   },
   "outputs": [
    {
     "name": "stdout",
     "output_type": "stream",
     "text": [
      "<class 'pandas.core.frame.DataFrame'>\n",
      "RangeIndex: 823 entries, 0 to 822\n",
      "Data columns (total 15 columns):\n",
      " #   Column           Non-Null Count  Dtype \n",
      "---  ------           --------------  ----- \n",
      " 0   brand            823 non-null    object\n",
      " 1   processor_brand  823 non-null    object\n",
      " 2   processor_name   823 non-null    object\n",
      " 3   processor_gnrtn  823 non-null    object\n",
      " 4   ram_gb           823 non-null    object\n",
      " 5   ram_type         823 non-null    object\n",
      " 6   ssd              823 non-null    object\n",
      " 7   hdd              823 non-null    object\n",
      " 8   os               823 non-null    object\n",
      " 9   os_bit           823 non-null    object\n",
      " 10  graphic_card_gb  823 non-null    object\n",
      " 11  weight           823 non-null    object\n",
      " 12  warranty         823 non-null    object\n",
      " 13  Touchscreen      823 non-null    object\n",
      " 14  Price            823 non-null    int64 \n",
      "dtypes: int64(1), object(14)\n",
      "memory usage: 96.6+ KB\n"
     ]
    }
   ],
   "source": [
    "# check overview of columns, their data types, and non-null counts.\n",
    "df_train.info()"
   ]
  },
  {
   "cell_type": "code",
   "execution_count": 91,
   "id": "6e876bef",
   "metadata": {
    "execution": {
     "iopub.execute_input": "2023-11-27T22:12:39.226465Z",
     "iopub.status.busy": "2023-11-27T22:12:39.225479Z",
     "iopub.status.idle": "2023-11-27T22:12:39.232968Z",
     "shell.execute_reply": "2023-11-27T22:12:39.231963Z"
    },
    "papermill": {
     "duration": 0.033495,
     "end_time": "2023-11-27T22:12:39.235179",
     "exception": false,
     "start_time": "2023-11-27T22:12:39.201684",
     "status": "completed"
    },
    "tags": []
   },
   "outputs": [
    {
     "name": "stdout",
     "output_type": "stream",
     "text": [
      "Index(['brand', 'processor_brand', 'processor_name', 'processor_gnrtn',\n",
      "       'ram_gb', 'ram_type', 'ssd', 'hdd', 'os', 'os_bit', 'graphic_card_gb',\n",
      "       'weight', 'warranty', 'Touchscreen'],\n",
      "      dtype='object') \n",
      " Index(['Price'], dtype='object')\n"
     ]
    }
   ],
   "source": [
    "# make to different variables for categorical and numerical feature identification\n",
    "cat_val = df_train.select_dtypes(include=['object']).columns\n",
    "num_val = df_train.select_dtypes(include=['int64']).columns\n",
    "\n",
    "print(cat_val,'\\n',num_val)"
   ]
  },
  {
   "cell_type": "code",
   "execution_count": 92,
   "id": "c0dd13c9",
   "metadata": {
    "execution": {
     "iopub.execute_input": "2023-11-27T22:12:39.286175Z",
     "iopub.status.busy": "2023-11-27T22:12:39.285232Z",
     "iopub.status.idle": "2023-11-27T22:12:39.298845Z",
     "shell.execute_reply": "2023-11-27T22:12:39.296827Z"
    },
    "papermill": {
     "duration": 0.044348,
     "end_time": "2023-11-27T22:12:39.301945",
     "exception": false,
     "start_time": "2023-11-27T22:12:39.257597",
     "status": "completed"
    },
    "tags": []
   },
   "outputs": [
    {
     "name": "stdout",
     "output_type": "stream",
     "text": [
      "Unique values in column 'brand': ['ASUS' 'Lenovo' 'acer' 'Avita' 'HP' 'DELL' 'MSI' 'APPLE']\n",
      "Unique values in column 'processor_brand': ['Intel' 'AMD' 'M1']\n",
      "Unique values in column 'processor_name': ['Core i3' 'Core i5' 'Celeron Dual' 'Ryzen 5' 'Core i7' 'Core i9' 'M1'\n",
      " 'Pentium Quad' 'Ryzen 3' 'Ryzen 7' 'Ryzen 9']\n",
      "Unique values in column 'processor_gnrtn': ['10th' 'Not Available' '11th' '7th' '8th' '9th' '4th' '12th']\n",
      "Unique values in column 'ram_gb': ['4 GB' '8 GB' '16 GB' '32 GB']\n",
      "Unique values in column 'ram_type': ['DDR4' 'LPDDR4' 'LPDDR4X' 'DDR5' 'DDR3' 'LPDDR3']\n",
      "Unique values in column 'ssd': ['0 GB' '512 GB' '256 GB' '128 GB' '1024 GB' '2048 GB' '3072 GB']\n",
      "Unique values in column 'hdd': ['1024 GB' '0 GB' '512 GB' '2048 GB']\n",
      "Unique values in column 'os': ['Windows' 'DOS' 'Mac']\n",
      "Unique values in column 'os_bit': ['64-bit' '32-bit']\n",
      "Unique values in column 'graphic_card_gb': ['0 GB' '2 GB' '4 GB' '6 GB' '8 GB']\n",
      "Unique values in column 'weight': ['Casual' 'ThinNlight' 'Gaming']\n",
      "Unique values in column 'warranty': ['No warranty' '1 year' '2 years' '3 years']\n",
      "Unique values in column 'Touchscreen': ['No' 'Yes']\n",
      "Unique values in column 'Price': [ 34649  38999  39999  69990  26990  22990  21990  58799  49999  59990\n",
      "  93700  72990  17490  35990  56490  65390  31999  32490  31799  29890\n",
      "  23990  32955  46200  34429  37990  33980  39990  39490  53990  38990\n",
      "  37890  41990  45990  42490  36990  38940  42990  49990  41490  38490\n",
      "  44990  36490  38970  44900  44427  40200  40990  71999  41998  39998\n",
      "  48490  44376  43900  46690  43990  48500  48990  23490  54238  51990\n",
      "  43970  54990  41250  60790  45650  45490  38799  69267  51649  47990\n",
      "  44890  50990  48900  41790  57999  45930  55490  32890  42190  43690\n",
      "  43800  34990  38900  40890  39790  35590  33990  43400  24990  40750\n",
      "  43000  38000  49279  41500  36999  42900  21490  41480  32990  38680\n",
      "  40390  20490  44490  41890  43590  44690  41390  44290  48999  46390\n",
      "  18990  17990  26470  27990  29999  25990  16990 119990  94190 106167\n",
      "  68090 139990  55990 102551  46990  76012  49490  86867  81998 136590\n",
      "  59490  49800  61999  52990  67990  57990  62300  61990  63990  65990\n",
      "  71990  76990  89990  71890  64990  55999  73490  74490  58340  82990\n",
      "  64190  70090  97990  66999  60990  59999  79990  69490  89390  74990\n",
      "  66490  89702  70990  58990  57500  56541  61290  84990  72500  87990\n",
      "  68990  77990 105990 111890  71090  53400  74500 114990 159990 172090\n",
      " 147000 106490 111999  70798  99500  62998  88990 113590  73990  61000\n",
      "  99990  70799  53690  53190  58999  82000  89998  69899  76300  72900\n",
      "  73519 126000 114999 109999 129999 149990  71290  79500  70980  94000\n",
      "  85990  86990  91999  78900 132790  65556  70190  79590  86999  78000\n",
      "  73063 100990  75990  84086 179990  84500  74190 155411 125394  52490\n",
      "  56990  58090  61597  81990  61249  83990 291190 145990  46790  44599\n",
      "  72964  48790  56491  62490  60190  54490  55790  69900  74590  77900\n",
      "  67490  74999  68900  71695  62317 207290  93190  94990 102990 104000\n",
      "  90190  88488 109990 239759  78990 121890  92000 162990 135300 174527\n",
      " 162299 109190  99999 104990 244801  86000 162399 119599 211753 110999\n",
      "  66990 134990  98990 144690 194990 124990 122410 154990 122990 224990\n",
      " 279990 121990 116990 151098 129990 149999 171990  93955 234990 128500\n",
      " 120980 157249 229900 131500 165990 167990 165000  62990 136990 233990\n",
      "  93990 116941  82500  98912  92990 169990 192990 299990 269990 265998\n",
      " 441990 109590 146490 112990 132990 125990 103990 101990 131990 128990\n",
      " 184990 225990 243990 309990  58100  30990  36000  30780  33690  40590\n",
      "  34500  43490  42090  37390  52632  32917  41999  44390  49970  47490\n",
      "  67500  62450  98020  49890  73999  76190  74798  68100  55090  91990\n",
      "  84208  53490  76498  98920  52380  52500  75999  80990  59900  54590\n",
      "  75500  51890  57900  81978  68500  80000  75100 106990  81490  84988\n",
      "  90990  72400 111990 109000  78988  73138  89570  73400  84190  95990\n",
      " 130990  77988  76000 111000  84970  80490 135990 199990 146990 141990\n",
      " 142990 130500 138990 144990  57490]\n"
     ]
    }
   ],
   "source": [
    "# check all unique values in features\n",
    "for column in df_train.columns:\n",
    "    unique_values = df_train[column].unique()\n",
    "    print(f\"Unique values in column '{column}': {unique_values}\")"
   ]
  },
  {
   "cell_type": "code",
   "execution_count": 93,
   "id": "8631439f",
   "metadata": {
    "execution": {
     "iopub.execute_input": "2023-11-27T22:12:39.343976Z",
     "iopub.status.busy": "2023-11-27T22:12:39.343585Z",
     "iopub.status.idle": "2023-11-27T22:12:39.375790Z",
     "shell.execute_reply": "2023-11-27T22:12:39.374655Z"
    },
    "papermill": {
     "duration": 0.055761,
     "end_time": "2023-11-27T22:12:39.378107",
     "exception": false,
     "start_time": "2023-11-27T22:12:39.322346",
     "status": "completed"
    },
    "tags": []
   },
   "outputs": [
    {
     "data": {
      "text/html": [
       "<div>\n",
       "<style scoped>\n",
       "    .dataframe tbody tr th:only-of-type {\n",
       "        vertical-align: middle;\n",
       "    }\n",
       "\n",
       "    .dataframe tbody tr th {\n",
       "        vertical-align: top;\n",
       "    }\n",
       "\n",
       "    .dataframe thead th {\n",
       "        text-align: right;\n",
       "    }\n",
       "</style>\n",
       "<table border=\"1\" class=\"dataframe\">\n",
       "  <thead>\n",
       "    <tr style=\"text-align: right;\">\n",
       "      <th></th>\n",
       "      <th>brand</th>\n",
       "      <th>processor_brand</th>\n",
       "      <th>processor_name</th>\n",
       "      <th>processor_gnrtn</th>\n",
       "      <th>ram_gb</th>\n",
       "      <th>ram_type</th>\n",
       "      <th>ssd</th>\n",
       "      <th>hdd</th>\n",
       "      <th>os</th>\n",
       "      <th>os_bit</th>\n",
       "      <th>graphic_card_gb</th>\n",
       "      <th>weight</th>\n",
       "      <th>warranty</th>\n",
       "      <th>Touchscreen</th>\n",
       "      <th>Price</th>\n",
       "    </tr>\n",
       "  </thead>\n",
       "  <tbody>\n",
       "    <tr>\n",
       "      <th>0</th>\n",
       "      <td>ASUS</td>\n",
       "      <td>Intel</td>\n",
       "      <td>Core i3</td>\n",
       "      <td>10</td>\n",
       "      <td>4</td>\n",
       "      <td>DDR4</td>\n",
       "      <td>0</td>\n",
       "      <td>1024</td>\n",
       "      <td>Windows</td>\n",
       "      <td>64</td>\n",
       "      <td>0</td>\n",
       "      <td>Casual</td>\n",
       "      <td>No warranty</td>\n",
       "      <td>No</td>\n",
       "      <td>34649</td>\n",
       "    </tr>\n",
       "    <tr>\n",
       "      <th>1</th>\n",
       "      <td>Lenovo</td>\n",
       "      <td>Intel</td>\n",
       "      <td>Core i3</td>\n",
       "      <td>10</td>\n",
       "      <td>4</td>\n",
       "      <td>DDR4</td>\n",
       "      <td>0</td>\n",
       "      <td>1024</td>\n",
       "      <td>Windows</td>\n",
       "      <td>64</td>\n",
       "      <td>0</td>\n",
       "      <td>Casual</td>\n",
       "      <td>No warranty</td>\n",
       "      <td>No</td>\n",
       "      <td>38999</td>\n",
       "    </tr>\n",
       "    <tr>\n",
       "      <th>2</th>\n",
       "      <td>Lenovo</td>\n",
       "      <td>Intel</td>\n",
       "      <td>Core i3</td>\n",
       "      <td>10</td>\n",
       "      <td>4</td>\n",
       "      <td>DDR4</td>\n",
       "      <td>0</td>\n",
       "      <td>1024</td>\n",
       "      <td>Windows</td>\n",
       "      <td>64</td>\n",
       "      <td>0</td>\n",
       "      <td>Casual</td>\n",
       "      <td>No warranty</td>\n",
       "      <td>No</td>\n",
       "      <td>39999</td>\n",
       "    </tr>\n",
       "    <tr>\n",
       "      <th>3</th>\n",
       "      <td>ASUS</td>\n",
       "      <td>Intel</td>\n",
       "      <td>Core i5</td>\n",
       "      <td>10</td>\n",
       "      <td>8</td>\n",
       "      <td>DDR4</td>\n",
       "      <td>512</td>\n",
       "      <td>0</td>\n",
       "      <td>Windows</td>\n",
       "      <td>32</td>\n",
       "      <td>2</td>\n",
       "      <td>Casual</td>\n",
       "      <td>No warranty</td>\n",
       "      <td>No</td>\n",
       "      <td>69990</td>\n",
       "    </tr>\n",
       "    <tr>\n",
       "      <th>4</th>\n",
       "      <td>ASUS</td>\n",
       "      <td>Intel</td>\n",
       "      <td>Celeron Dual</td>\n",
       "      <td>Not Available</td>\n",
       "      <td>4</td>\n",
       "      <td>DDR4</td>\n",
       "      <td>0</td>\n",
       "      <td>512</td>\n",
       "      <td>Windows</td>\n",
       "      <td>64</td>\n",
       "      <td>0</td>\n",
       "      <td>Casual</td>\n",
       "      <td>No warranty</td>\n",
       "      <td>No</td>\n",
       "      <td>26990</td>\n",
       "    </tr>\n",
       "  </tbody>\n",
       "</table>\n",
       "</div>"
      ],
      "text/plain": [
       "    brand processor_brand processor_name processor_gnrtn  ram_gb ram_type  \\\n",
       "0    ASUS           Intel        Core i3              10       4     DDR4   \n",
       "1  Lenovo           Intel        Core i3              10       4     DDR4   \n",
       "2  Lenovo           Intel        Core i3              10       4     DDR4   \n",
       "3    ASUS           Intel        Core i5              10       8     DDR4   \n",
       "4    ASUS           Intel   Celeron Dual   Not Available       4     DDR4   \n",
       "\n",
       "   ssd   hdd       os  os_bit  graphic_card_gb  weight     warranty  \\\n",
       "0    0  1024  Windows      64                0  Casual  No warranty   \n",
       "1    0  1024  Windows      64                0  Casual  No warranty   \n",
       "2    0  1024  Windows      64                0  Casual  No warranty   \n",
       "3  512     0  Windows      32                2  Casual  No warranty   \n",
       "4    0   512  Windows      64                0  Casual  No warranty   \n",
       "\n",
       "  Touchscreen  Price  \n",
       "0          No  34649  \n",
       "1          No  38999  \n",
       "2          No  39999  \n",
       "3          No  69990  \n",
       "4          No  26990  "
      ]
     },
     "execution_count": 93,
     "metadata": {},
     "output_type": "execute_result"
    }
   ],
   "source": [
    "# Removed units ('GB', 'years', 'bit', etc.) from certain columns using string manipulation (str.replace) \n",
    "# and transformed them into appropriate numeric types (astype or pd.to_numeric)\n",
    "df_train['ram_gb'] = df_train['ram_gb'].str.replace('GB','')\n",
    "df_train['ssd'] = df_train['ssd'].str.replace('GB','')\n",
    "df_train['hdd'] = df_train['hdd'].str.replace('GB','')\n",
    "df_train['graphic_card_gb'] = df_train['graphic_card_gb'].str.replace('GB','')\n",
    "df_train['os_bit'] = df_train['os_bit'].str.replace('-bit','')\n",
    "df_train['warranty'] = df_train['warranty'].str.replace(r'\\byears?\\b', '', regex=True)\n",
    "df_train['processor_gnrtn'] = df_train['processor_gnrtn'].str.replace('th','')\n",
    "\n",
    "\n",
    "df_train['ram_gb'] = df_train['ram_gb'].astype('int32')\n",
    "df_train['ssd'] = df_train['ssd'].astype('int32')\n",
    "df_train['hdd'] = df_train['hdd'].astype('int32')\n",
    "df_train['graphic_card_gb'] = df_train['graphic_card_gb'].astype('int32')\n",
    "df_train['os_bit'] = df_train['os_bit'].astype('int32')\n",
    "\n",
    "df_train.head()"
   ]
  },
  {
   "cell_type": "code",
   "execution_count": 94,
   "id": "c1524803",
   "metadata": {
    "execution": {
     "iopub.execute_input": "2023-11-27T22:12:39.416516Z",
     "iopub.status.busy": "2023-11-27T22:12:39.415802Z",
     "iopub.status.idle": "2023-11-27T22:12:39.423823Z",
     "shell.execute_reply": "2023-11-27T22:12:39.422992Z"
    },
    "papermill": {
     "duration": 0.029263,
     "end_time": "2023-11-27T22:12:39.426096",
     "exception": false,
     "start_time": "2023-11-27T22:12:39.396833",
     "status": "completed"
    },
    "tags": []
   },
   "outputs": [],
   "source": [
    "# Convert to numeric, 'Not Available' becomes NaN\n",
    "df_train['processor_gnrtn'] = pd.to_numeric(df_train['processor_gnrtn'], errors='coerce')  # Convert to numeric, 'Not Available' becomes NaN\n",
    "median_value = df_train['processor_gnrtn'].median()\n"
   ]
  },
  {
   "cell_type": "code",
   "execution_count": 95,
   "id": "f5e62e2f",
   "metadata": {
    "execution": {
     "iopub.execute_input": "2023-11-27T22:12:39.464907Z",
     "iopub.status.busy": "2023-11-27T22:12:39.464160Z",
     "iopub.status.idle": "2023-11-27T22:12:39.469511Z",
     "shell.execute_reply": "2023-11-27T22:12:39.468761Z"
    },
    "papermill": {
     "duration": 0.027157,
     "end_time": "2023-11-27T22:12:39.471705",
     "exception": false,
     "start_time": "2023-11-27T22:12:39.444548",
     "status": "completed"
    },
    "tags": []
   },
   "outputs": [],
   "source": [
    "df_train['processor_gnrtn'].fillna(median_value, inplace=True)\n",
    "df_train['processor_gnrtn'] = df_train['processor_gnrtn'].astype(int)"
   ]
  },
  {
   "cell_type": "code",
   "execution_count": 96,
   "id": "fed0e4e2",
   "metadata": {
    "execution": {
     "iopub.execute_input": "2023-11-27T22:12:39.515461Z",
     "iopub.status.busy": "2023-11-27T22:12:39.514279Z",
     "iopub.status.idle": "2023-11-27T22:12:39.533191Z",
     "shell.execute_reply": "2023-11-27T22:12:39.532366Z"
    },
    "papermill": {
     "duration": 0.045933,
     "end_time": "2023-11-27T22:12:39.535726",
     "exception": false,
     "start_time": "2023-11-27T22:12:39.489793",
     "status": "completed"
    },
    "tags": []
   },
   "outputs": [
    {
     "data": {
      "text/html": [
       "<div>\n",
       "<style scoped>\n",
       "    .dataframe tbody tr th:only-of-type {\n",
       "        vertical-align: middle;\n",
       "    }\n",
       "\n",
       "    .dataframe tbody tr th {\n",
       "        vertical-align: top;\n",
       "    }\n",
       "\n",
       "    .dataframe thead th {\n",
       "        text-align: right;\n",
       "    }\n",
       "</style>\n",
       "<table border=\"1\" class=\"dataframe\">\n",
       "  <thead>\n",
       "    <tr style=\"text-align: right;\">\n",
       "      <th></th>\n",
       "      <th>brand</th>\n",
       "      <th>processor_brand</th>\n",
       "      <th>processor_name</th>\n",
       "      <th>processor_gnrtn</th>\n",
       "      <th>ram_gb</th>\n",
       "      <th>ram_type</th>\n",
       "      <th>ssd</th>\n",
       "      <th>hdd</th>\n",
       "      <th>os</th>\n",
       "      <th>os_bit</th>\n",
       "      <th>graphic_card_gb</th>\n",
       "      <th>weight</th>\n",
       "      <th>warranty</th>\n",
       "      <th>Touchscreen</th>\n",
       "      <th>Price</th>\n",
       "    </tr>\n",
       "  </thead>\n",
       "  <tbody>\n",
       "    <tr>\n",
       "      <th>0</th>\n",
       "      <td>ASUS</td>\n",
       "      <td>Intel</td>\n",
       "      <td>Core i3</td>\n",
       "      <td>10</td>\n",
       "      <td>4</td>\n",
       "      <td>DDR4</td>\n",
       "      <td>0</td>\n",
       "      <td>1024</td>\n",
       "      <td>Windows</td>\n",
       "      <td>64</td>\n",
       "      <td>0</td>\n",
       "      <td>Casual</td>\n",
       "      <td>No warranty</td>\n",
       "      <td>No</td>\n",
       "      <td>34649</td>\n",
       "    </tr>\n",
       "    <tr>\n",
       "      <th>1</th>\n",
       "      <td>Lenovo</td>\n",
       "      <td>Intel</td>\n",
       "      <td>Core i3</td>\n",
       "      <td>10</td>\n",
       "      <td>4</td>\n",
       "      <td>DDR4</td>\n",
       "      <td>0</td>\n",
       "      <td>1024</td>\n",
       "      <td>Windows</td>\n",
       "      <td>64</td>\n",
       "      <td>0</td>\n",
       "      <td>Casual</td>\n",
       "      <td>No warranty</td>\n",
       "      <td>No</td>\n",
       "      <td>38999</td>\n",
       "    </tr>\n",
       "    <tr>\n",
       "      <th>2</th>\n",
       "      <td>Lenovo</td>\n",
       "      <td>Intel</td>\n",
       "      <td>Core i3</td>\n",
       "      <td>10</td>\n",
       "      <td>4</td>\n",
       "      <td>DDR4</td>\n",
       "      <td>0</td>\n",
       "      <td>1024</td>\n",
       "      <td>Windows</td>\n",
       "      <td>64</td>\n",
       "      <td>0</td>\n",
       "      <td>Casual</td>\n",
       "      <td>No warranty</td>\n",
       "      <td>No</td>\n",
       "      <td>39999</td>\n",
       "    </tr>\n",
       "    <tr>\n",
       "      <th>3</th>\n",
       "      <td>ASUS</td>\n",
       "      <td>Intel</td>\n",
       "      <td>Core i5</td>\n",
       "      <td>10</td>\n",
       "      <td>8</td>\n",
       "      <td>DDR4</td>\n",
       "      <td>512</td>\n",
       "      <td>0</td>\n",
       "      <td>Windows</td>\n",
       "      <td>32</td>\n",
       "      <td>2</td>\n",
       "      <td>Casual</td>\n",
       "      <td>No warranty</td>\n",
       "      <td>No</td>\n",
       "      <td>69990</td>\n",
       "    </tr>\n",
       "    <tr>\n",
       "      <th>4</th>\n",
       "      <td>ASUS</td>\n",
       "      <td>Intel</td>\n",
       "      <td>Celeron Dual</td>\n",
       "      <td>11</td>\n",
       "      <td>4</td>\n",
       "      <td>DDR4</td>\n",
       "      <td>0</td>\n",
       "      <td>512</td>\n",
       "      <td>Windows</td>\n",
       "      <td>64</td>\n",
       "      <td>0</td>\n",
       "      <td>Casual</td>\n",
       "      <td>No warranty</td>\n",
       "      <td>No</td>\n",
       "      <td>26990</td>\n",
       "    </tr>\n",
       "  </tbody>\n",
       "</table>\n",
       "</div>"
      ],
      "text/plain": [
       "    brand processor_brand processor_name  processor_gnrtn  ram_gb ram_type  \\\n",
       "0    ASUS           Intel        Core i3               10       4     DDR4   \n",
       "1  Lenovo           Intel        Core i3               10       4     DDR4   \n",
       "2  Lenovo           Intel        Core i3               10       4     DDR4   \n",
       "3    ASUS           Intel        Core i5               10       8     DDR4   \n",
       "4    ASUS           Intel   Celeron Dual               11       4     DDR4   \n",
       "\n",
       "   ssd   hdd       os  os_bit  graphic_card_gb  weight     warranty  \\\n",
       "0    0  1024  Windows      64                0  Casual  No warranty   \n",
       "1    0  1024  Windows      64                0  Casual  No warranty   \n",
       "2    0  1024  Windows      64                0  Casual  No warranty   \n",
       "3  512     0  Windows      32                2  Casual  No warranty   \n",
       "4    0   512  Windows      64                0  Casual  No warranty   \n",
       "\n",
       "  Touchscreen  Price  \n",
       "0          No  34649  \n",
       "1          No  38999  \n",
       "2          No  39999  \n",
       "3          No  69990  \n",
       "4          No  26990  "
      ]
     },
     "execution_count": 96,
     "metadata": {},
     "output_type": "execute_result"
    }
   ],
   "source": [
    "df_train.head()"
   ]
  },
  {
   "cell_type": "code",
   "execution_count": 97,
   "id": "bde70954",
   "metadata": {
    "execution": {
     "iopub.execute_input": "2023-11-27T22:12:39.586432Z",
     "iopub.status.busy": "2023-11-27T22:12:39.585840Z",
     "iopub.status.idle": "2023-11-27T22:12:39.599787Z",
     "shell.execute_reply": "2023-11-27T22:12:39.598961Z"
    },
    "papermill": {
     "duration": 0.039099,
     "end_time": "2023-11-27T22:12:39.602113",
     "exception": false,
     "start_time": "2023-11-27T22:12:39.563014",
     "status": "completed"
    },
    "tags": []
   },
   "outputs": [
    {
     "name": "stdout",
     "output_type": "stream",
     "text": [
      "<class 'pandas.core.frame.DataFrame'>\n",
      "RangeIndex: 823 entries, 0 to 822\n",
      "Data columns (total 15 columns):\n",
      " #   Column           Non-Null Count  Dtype \n",
      "---  ------           --------------  ----- \n",
      " 0   brand            823 non-null    object\n",
      " 1   processor_brand  823 non-null    object\n",
      " 2   processor_name   823 non-null    object\n",
      " 3   processor_gnrtn  823 non-null    int64 \n",
      " 4   ram_gb           823 non-null    int32 \n",
      " 5   ram_type         823 non-null    object\n",
      " 6   ssd              823 non-null    int32 \n",
      " 7   hdd              823 non-null    int32 \n",
      " 8   os               823 non-null    object\n",
      " 9   os_bit           823 non-null    int32 \n",
      " 10  graphic_card_gb  823 non-null    int32 \n",
      " 11  weight           823 non-null    object\n",
      " 12  warranty         823 non-null    object\n",
      " 13  Touchscreen      823 non-null    object\n",
      " 14  Price            823 non-null    int64 \n",
      "dtypes: int32(5), int64(2), object(8)\n",
      "memory usage: 80.5+ KB\n"
     ]
    }
   ],
   "source": [
    "df_train.info()"
   ]
  },
  {
   "cell_type": "code",
   "execution_count": 98,
   "id": "854de132",
   "metadata": {
    "execution": {
     "iopub.execute_input": "2023-11-27T22:12:39.640290Z",
     "iopub.status.busy": "2023-11-27T22:12:39.639684Z",
     "iopub.status.idle": "2023-11-27T22:12:39.649037Z",
     "shell.execute_reply": "2023-11-27T22:12:39.647962Z"
    },
    "papermill": {
     "duration": 0.030628,
     "end_time": "2023-11-27T22:12:39.651200",
     "exception": false,
     "start_time": "2023-11-27T22:12:39.620572",
     "status": "completed"
    },
    "tags": []
   },
   "outputs": [
    {
     "data": {
      "text/plain": [
       "brand              0\n",
       "processor_brand    0\n",
       "processor_name     0\n",
       "processor_gnrtn    0\n",
       "ram_gb             0\n",
       "ram_type           0\n",
       "ssd                0\n",
       "hdd                0\n",
       "os                 0\n",
       "os_bit             0\n",
       "graphic_card_gb    0\n",
       "weight             0\n",
       "warranty           0\n",
       "Touchscreen        0\n",
       "Price              0\n",
       "dtype: int64"
      ]
     },
     "execution_count": 98,
     "metadata": {},
     "output_type": "execute_result"
    }
   ],
   "source": [
    "df_train.isnull().sum()"
   ]
  },
  {
   "cell_type": "markdown",
   "id": "04340cfc",
   "metadata": {
    "papermill": {
     "duration": 0.017603,
     "end_time": "2023-11-27T22:12:39.686516",
     "exception": false,
     "start_time": "2023-11-27T22:12:39.668913",
     "status": "completed"
    },
    "tags": []
   },
   "source": [
    "## EDA"
   ]
  },
  {
   "cell_type": "code",
   "execution_count": 99,
   "id": "d6243326",
   "metadata": {
    "execution": {
     "iopub.execute_input": "2023-11-27T22:12:39.724697Z",
     "iopub.status.busy": "2023-11-27T22:12:39.723608Z",
     "iopub.status.idle": "2023-11-27T22:12:40.124999Z",
     "shell.execute_reply": "2023-11-27T22:12:40.123617Z"
    },
    "papermill": {
     "duration": 0.423377,
     "end_time": "2023-11-27T22:12:40.127817",
     "exception": false,
     "start_time": "2023-11-27T22:12:39.704440",
     "status": "completed"
    },
    "tags": []
   },
   "outputs": [
    {
     "data": {
      "text/plain": [
       "<seaborn.axisgrid.FacetGrid at 0x157489ac0>"
      ]
     },
     "execution_count": 99,
     "metadata": {},
     "output_type": "execute_result"
    },
    {
     "data": {
      "image/png": "[encoded data removed]",
      "text/plain": [
       "<Figure size 500x500 with 1 Axes>"
      ]
     },
     "metadata": {},
     "output_type": "display_data"
    }
   ],
   "source": [
    "sns.displot(df['Price'],color='blue')"
   ]
  },
  {
   "cell_type": "code",
   "execution_count": 100,
   "id": "435a2682",
   "metadata": {
    "execution": {
     "iopub.execute_input": "2023-11-27T22:12:40.166554Z",
     "iopub.status.busy": "2023-11-27T22:12:40.166184Z",
     "iopub.status.idle": "2023-11-27T22:12:41.283898Z",
     "shell.execute_reply": "2023-11-27T22:12:41.282638Z"
    },
    "papermill": {
     "duration": 1.140094,
     "end_time": "2023-11-27T22:12:41.286403",
     "exception": false,
     "start_time": "2023-11-27T22:12:40.146309",
     "status": "completed"
    },
    "tags": []
   },
   "outputs": [
    {
     "data": {
      "image/png": "[encoded data removed]",
      "text/plain": [
       "<Figure size 1000x600 with 1 Axes>"
      ]
     },
     "metadata": {},
     "output_type": "display_data"
    },
    {
     "data": {
      "image/png": "[encoded data removed]",
      "text/plain": [
       "<Figure size 1000x600 with 1 Axes>"
      ]
     },
     "metadata": {},
     "output_type": "display_data"
    },
    {
     "data": {
      "image/png": "[encoded data removed]",
      "text/plain": [
       "<Figure size 1000x600 with 1 Axes>"
      ]
     },
     "metadata": {},
     "output_type": "display_data"
    },
    {
     "data": {
      "image/png": "[encoded data removed]",
      "text/plain": [
       "<Figure size 1000x600 with 1 Axes>"
      ]
     },
     "metadata": {},
     "output_type": "display_data"
    },
    {
     "data": {
      "image/png": "[encoded data removed]",
      "text/plain": [
       "<Figure size 1000x600 with 1 Axes>"
      ]
     },
     "metadata": {},
     "output_type": "display_data"
    }
   ],
   "source": [
    "def dataplot(col):\n",
    "    plt.figure(figsize= (10,6))\n",
    "    sns.countplot(data = df_train, x=col, palette = 'plasma')\n",
    "    plt.xticks(rotation = 'vertical')\n",
    "    plt.show()\n",
    "    \n",
    "features = ['brand', 'ram_gb', 'processor_name', 'processor_gnrtn', 'os']\n",
    "\n",
    "for col in features:\n",
    "    dataplot(col)"
   ]
  },
  {
   "cell_type": "code",
   "execution_count": 101,
   "id": "e2b4d842",
   "metadata": {
    "execution": {
     "iopub.execute_input": "2023-11-27T22:12:41.328831Z",
     "iopub.status.busy": "2023-11-27T22:12:41.328016Z",
     "iopub.status.idle": "2023-11-27T22:12:41.806736Z",
     "shell.execute_reply": "2023-11-27T22:12:41.805383Z"
    },
    "papermill": {
     "duration": 0.502589,
     "end_time": "2023-11-27T22:12:41.809189",
     "exception": false,
     "start_time": "2023-11-27T22:12:41.306600",
     "status": "completed"
    },
    "tags": []
   },
   "outputs": [
    {
     "data": {
      "image/png": "[encoded data removed]",
      "text/plain": [
       "<Figure size 1500x700 with 1 Axes>"
      ]
     },
     "metadata": {},
     "output_type": "display_data"
    }
   ],
   "source": [
    "plt.figure(figsize=(15,7))\n",
    "sns.barplot(x = df_train['brand'], y=df_train['Price'])\n",
    "plt.xticks(rotation = 'vertical')\n",
    "plt.show()"
   ]
  },
  {
   "cell_type": "markdown",
   "id": "ad40d71d",
   "metadata": {
    "papermill": {
     "duration": 0.020686,
     "end_time": "2023-11-27T22:12:41.851173",
     "exception": false,
     "start_time": "2023-11-27T22:12:41.830487",
     "status": "completed"
    },
    "tags": []
   },
   "source": [
    "#### Analysis on Touchscreen feature :"
   ]
  },
  {
   "cell_type": "code",
   "execution_count": 102,
   "id": "938cbdba",
   "metadata": {
    "execution": {
     "iopub.execute_input": "2023-11-27T22:12:41.894794Z",
     "iopub.status.busy": "2023-11-27T22:12:41.894331Z",
     "iopub.status.idle": "2023-11-27T22:12:42.108948Z",
     "shell.execute_reply": "2023-11-27T22:12:42.107584Z"
    },
    "papermill": {
     "duration": 0.239278,
     "end_time": "2023-11-27T22:12:42.111378",
     "exception": false,
     "start_time": "2023-11-27T22:12:41.872100",
     "status": "completed"
    },
    "tags": []
   },
   "outputs": [
    {
     "data": {
      "text/plain": [
       "<Axes: xlabel='Touchscreen', ylabel='count'>"
      ]
     },
     "execution_count": 102,
     "metadata": {},
     "output_type": "execute_result"
    },
    {
     "data": {
      "image/png": "[encoded data removed]",
      "text/plain": [
       "<Figure size 640x480 with 1 Axes>"
      ]
     },
     "metadata": {},
     "output_type": "display_data"
    }
   ],
   "source": [
    "sns.countplot(df_train, x =df_train['Touchscreen'],palette='plasma')"
   ]
  },
  {
   "cell_type": "code",
   "execution_count": 103,
   "id": "a3f24a8d",
   "metadata": {
    "execution": {
     "iopub.execute_input": "2023-11-27T22:12:42.156524Z",
     "iopub.status.busy": "2023-11-27T22:12:42.155469Z",
     "iopub.status.idle": "2023-11-27T22:12:42.406110Z",
     "shell.execute_reply": "2023-11-27T22:12:42.405213Z"
    },
    "papermill": {
     "duration": 0.275314,
     "end_time": "2023-11-27T22:12:42.408237",
     "exception": false,
     "start_time": "2023-11-27T22:12:42.132923",
     "status": "completed"
    },
    "tags": []
   },
   "outputs": [
    {
     "data": {
      "text/plain": [
       "<Axes: xlabel='Touchscreen', ylabel='Price'>"
      ]
     },
     "execution_count": 103,
     "metadata": {},
     "output_type": "execute_result"
    },
    {
     "data": {
      "image/png": "[encoded data removed]",
      "text/plain": [
       "<Figure size 640x480 with 1 Axes>"
      ]
     },
     "metadata": {},
     "output_type": "display_data"
    }
   ],
   "source": [
    "sns.barplot(x = df_train['Touchscreen'], y= df_train['Price'])"
   ]
  },
  {
   "cell_type": "markdown",
   "id": "432f5a41",
   "metadata": {
    "papermill": {
     "duration": 0.022034,
     "end_time": "2023-11-27T22:12:42.452517",
     "exception": false,
     "start_time": "2023-11-27T22:12:42.430483",
     "status": "completed"
    },
    "tags": []
   },
   "source": [
    "#### Analysis on Warranty feature :"
   ]
  },
  {
   "cell_type": "code",
   "execution_count": 104,
   "id": "84534afd",
   "metadata": {
    "execution": {
     "iopub.execute_input": "2023-11-27T22:12:42.498346Z",
     "iopub.status.busy": "2023-11-27T22:12:42.497259Z",
     "iopub.status.idle": "2023-11-27T22:12:42.708527Z",
     "shell.execute_reply": "2023-11-27T22:12:42.707410Z"
    },
    "papermill": {
     "duration": 0.236667,
     "end_time": "2023-11-27T22:12:42.711132",
     "exception": false,
     "start_time": "2023-11-27T22:12:42.474465",
     "status": "completed"
    },
    "tags": []
   },
   "outputs": [
    {
     "data": {
      "text/plain": [
       "<Axes: xlabel='warranty', ylabel='count'>"
      ]
     },
     "execution_count": 104,
     "metadata": {},
     "output_type": "execute_result"
    },
    {
     "data": {
      "image/png": "[encoded data removed]",
      "text/plain": [
       "<Figure size 640x480 with 1 Axes>"
      ]
     },
     "metadata": {},
     "output_type": "display_data"
    }
   ],
   "source": [
    "sns.countplot(df_train, x =df_train['warranty'],palette='plasma')"
   ]
  },
  {
   "cell_type": "code",
   "execution_count": 105,
   "id": "22eb8ba5",
   "metadata": {
    "execution": {
     "iopub.execute_input": "2023-11-27T22:12:42.757841Z",
     "iopub.status.busy": "2023-11-27T22:12:42.755718Z",
     "iopub.status.idle": "2023-11-27T22:12:43.081477Z",
     "shell.execute_reply": "2023-11-27T22:12:43.079446Z"
    },
    "papermill": {
     "duration": 0.351327,
     "end_time": "2023-11-27T22:12:43.084044",
     "exception": false,
     "start_time": "2023-11-27T22:12:42.732717",
     "status": "completed"
    },
    "tags": []
   },
   "outputs": [
    {
     "data": {
      "text/plain": [
       "<Axes: xlabel='warranty', ylabel='Price'>"
      ]
     },
     "execution_count": 105,
     "metadata": {},
     "output_type": "execute_result"
    },
    {
     "data": {
      "image/png": "[encoded data removed]",
      "text/plain": [
       "<Figure size 640x480 with 1 Axes>"
      ]
     },
     "metadata": {},
     "output_type": "display_data"
    }
   ],
   "source": [
    "sns.barplot(x = df_train['warranty'], y= df_train['Price'])"
   ]
  },
  {
   "cell_type": "markdown",
   "id": "c7c210b5",
   "metadata": {
    "papermill": {
     "duration": 0.022549,
     "end_time": "2023-11-27T22:12:43.130373",
     "exception": false,
     "start_time": "2023-11-27T22:12:43.107824",
     "status": "completed"
    },
    "tags": []
   },
   "source": [
    "#### Analysis on Weight feature :"
   ]
  },
  {
   "cell_type": "code",
   "execution_count": 106,
   "id": "bdc4b46f",
   "metadata": {
    "execution": {
     "iopub.execute_input": "2023-11-27T22:12:43.176757Z",
     "iopub.status.busy": "2023-11-27T22:12:43.176372Z",
     "iopub.status.idle": "2023-11-27T22:12:43.382530Z",
     "shell.execute_reply": "2023-11-27T22:12:43.381504Z"
    },
    "papermill": {
     "duration": 0.231888,
     "end_time": "2023-11-27T22:12:43.384909",
     "exception": false,
     "start_time": "2023-11-27T22:12:43.153021",
     "status": "completed"
    },
    "tags": []
   },
   "outputs": [
    {
     "data": {
      "text/plain": [
       "<Axes: xlabel='weight', ylabel='count'>"
      ]
     },
     "execution_count": 106,
     "metadata": {},
     "output_type": "execute_result"
    },
    {
     "data": {
      "image/png": "[encoded data removed]",
      "text/plain": [
       "<Figure size 640x480 with 1 Axes>"
      ]
     },
     "metadata": {},
     "output_type": "display_data"
    }
   ],
   "source": [
    "sns.countplot(df_train, x =df_train['weight'],palette='plasma')"
   ]
  },
  {
   "cell_type": "code",
   "execution_count": 107,
   "id": "dc966f00",
   "metadata": {
    "execution": {
     "iopub.execute_input": "2023-11-27T22:12:43.432135Z",
     "iopub.status.busy": "2023-11-27T22:12:43.431432Z",
     "iopub.status.idle": "2023-11-27T22:12:43.726856Z",
     "shell.execute_reply": "2023-11-27T22:12:43.725560Z"
    },
    "papermill": {
     "duration": 0.321303,
     "end_time": "2023-11-27T22:12:43.728946",
     "exception": false,
     "start_time": "2023-11-27T22:12:43.407643",
     "status": "completed"
    },
    "tags": []
   },
   "outputs": [
    {
     "data": {
      "text/plain": [
       "<Axes: xlabel='weight', ylabel='Price'>"
      ]
     },
     "execution_count": 107,
     "metadata": {},
     "output_type": "execute_result"
    },
    {
     "data": {
      "image/png": "[encoded data removed]",
      "text/plain": [
       "<Figure size 640x480 with 1 Axes>"
      ]
     },
     "metadata": {},
     "output_type": "display_data"
    }
   ],
   "source": [
    "sns.barplot(x = df_train['weight'], y= df_train['Price'])"
   ]
  },
  {
   "cell_type": "markdown",
   "id": "0a345bd3",
   "metadata": {
    "papermill": {
     "duration": 0.023808,
     "end_time": "2023-11-27T22:12:43.776350",
     "exception": false,
     "start_time": "2023-11-27T22:12:43.752542",
     "status": "completed"
    },
    "tags": []
   },
   "source": [
    "#### Analysis on RAM feature :"
   ]
  },
  {
   "cell_type": "code",
   "execution_count": 108,
   "id": "5cbc1e9d",
   "metadata": {
    "execution": {
     "iopub.execute_input": "2023-11-27T22:12:43.824163Z",
     "iopub.status.busy": "2023-11-27T22:12:43.823747Z",
     "iopub.status.idle": "2023-11-27T22:12:44.060327Z",
     "shell.execute_reply": "2023-11-27T22:12:44.059193Z"
    },
    "papermill": {
     "duration": 0.263048,
     "end_time": "2023-11-27T22:12:44.062662",
     "exception": false,
     "start_time": "2023-11-27T22:12:43.799614",
     "status": "completed"
    },
    "tags": []
   },
   "outputs": [
    {
     "data": {
      "text/plain": [
       "<Axes: xlabel='ram_gb', ylabel='count'>"
      ]
     },
     "execution_count": 108,
     "metadata": {},
     "output_type": "execute_result"
    },
    {
     "data": {
      "image/png": "[encoded data removed]",
      "text/plain": [
       "<Figure size 640x480 with 1 Axes>"
      ]
     },
     "metadata": {},
     "output_type": "display_data"
    }
   ],
   "source": [
    "sns.countplot(df_train, x =df_train['ram_gb'],palette='plasma')"
   ]
  },
  {
   "cell_type": "code",
   "execution_count": 109,
   "id": "dcba0060",
   "metadata": {
    "execution": {
     "iopub.execute_input": "2023-11-27T22:12:44.113879Z",
     "iopub.status.busy": "2023-11-27T22:12:44.113477Z",
     "iopub.status.idle": "2023-11-27T22:12:44.442540Z",
     "shell.execute_reply": "2023-11-27T22:12:44.441235Z"
    },
    "papermill": {
     "duration": 0.358416,
     "end_time": "2023-11-27T22:12:44.444880",
     "exception": false,
     "start_time": "2023-11-27T22:12:44.086464",
     "status": "completed"
    },
    "tags": []
   },
   "outputs": [
    {
     "data": {
      "text/plain": [
       "<Axes: xlabel='ram_gb', ylabel='Price'>"
      ]
     },
     "execution_count": 109,
     "metadata": {},
     "output_type": "execute_result"
    },
    {
     "data": {
      "image/png": "[encoded data removed]",
      "text/plain": [
       "<Figure size 640x480 with 1 Axes>"
      ]
     },
     "metadata": {},
     "output_type": "display_data"
    }
   ],
   "source": [
    "sns.barplot(x = df_train['ram_gb'], y= df_train['Price'])"
   ]
  },
  {
   "cell_type": "code",
   "execution_count": 110,
   "id": "9e7ac31d",
   "metadata": {
    "execution": {
     "iopub.execute_input": "2023-11-27T22:12:44.494151Z",
     "iopub.status.busy": "2023-11-27T22:12:44.493715Z",
     "iopub.status.idle": "2023-11-27T22:12:44.512918Z",
     "shell.execute_reply": "2023-11-27T22:12:44.511821Z"
    },
    "papermill": {
     "duration": 0.046572,
     "end_time": "2023-11-27T22:12:44.515069",
     "exception": false,
     "start_time": "2023-11-27T22:12:44.468497",
     "status": "completed"
    },
    "tags": []
   },
   "outputs": [
    {
     "data": {
      "text/html": [
       "<div>\n",
       "<style scoped>\n",
       "    .dataframe tbody tr th:only-of-type {\n",
       "        vertical-align: middle;\n",
       "    }\n",
       "\n",
       "    .dataframe tbody tr th {\n",
       "        vertical-align: top;\n",
       "    }\n",
       "\n",
       "    .dataframe thead th {\n",
       "        text-align: right;\n",
       "    }\n",
       "</style>\n",
       "<table border=\"1\" class=\"dataframe\">\n",
       "  <thead>\n",
       "    <tr style=\"text-align: right;\">\n",
       "      <th></th>\n",
       "      <th>brand</th>\n",
       "      <th>processor_brand</th>\n",
       "      <th>processor_name</th>\n",
       "      <th>processor_gnrtn</th>\n",
       "      <th>ram_gb</th>\n",
       "      <th>ram_type</th>\n",
       "      <th>ssd</th>\n",
       "      <th>hdd</th>\n",
       "      <th>os</th>\n",
       "      <th>os_bit</th>\n",
       "      <th>graphic_card_gb</th>\n",
       "      <th>weight</th>\n",
       "      <th>warranty</th>\n",
       "      <th>Touchscreen</th>\n",
       "      <th>Price</th>\n",
       "    </tr>\n",
       "  </thead>\n",
       "  <tbody>\n",
       "    <tr>\n",
       "      <th>597</th>\n",
       "      <td>MSI</td>\n",
       "      <td>Intel</td>\n",
       "      <td>Core i5</td>\n",
       "      <td>10</td>\n",
       "      <td>8</td>\n",
       "      <td>LPDDR4</td>\n",
       "      <td>0</td>\n",
       "      <td>512</td>\n",
       "      <td>DOS</td>\n",
       "      <td>32</td>\n",
       "      <td>4</td>\n",
       "      <td>Casual</td>\n",
       "      <td>No warranty</td>\n",
       "      <td>No</td>\n",
       "      <td>109590</td>\n",
       "    </tr>\n",
       "    <tr>\n",
       "      <th>526</th>\n",
       "      <td>Lenovo</td>\n",
       "      <td>Intel</td>\n",
       "      <td>Core i7</td>\n",
       "      <td>10</td>\n",
       "      <td>16</td>\n",
       "      <td>DDR4</td>\n",
       "      <td>512</td>\n",
       "      <td>0</td>\n",
       "      <td>Windows</td>\n",
       "      <td>32</td>\n",
       "      <td>2</td>\n",
       "      <td>Casual</td>\n",
       "      <td>No warranty</td>\n",
       "      <td>No</td>\n",
       "      <td>162399</td>\n",
       "    </tr>\n",
       "    <tr>\n",
       "      <th>496</th>\n",
       "      <td>MSI</td>\n",
       "      <td>Intel</td>\n",
       "      <td>Core i7</td>\n",
       "      <td>10</td>\n",
       "      <td>8</td>\n",
       "      <td>DDR4</td>\n",
       "      <td>512</td>\n",
       "      <td>0</td>\n",
       "      <td>Windows</td>\n",
       "      <td>64</td>\n",
       "      <td>0</td>\n",
       "      <td>ThinNlight</td>\n",
       "      <td>No warranty</td>\n",
       "      <td>No</td>\n",
       "      <td>57990</td>\n",
       "    </tr>\n",
       "    <tr>\n",
       "      <th>427</th>\n",
       "      <td>ASUS</td>\n",
       "      <td>Intel</td>\n",
       "      <td>Core i5</td>\n",
       "      <td>10</td>\n",
       "      <td>8</td>\n",
       "      <td>DDR4</td>\n",
       "      <td>0</td>\n",
       "      <td>1024</td>\n",
       "      <td>Windows</td>\n",
       "      <td>64</td>\n",
       "      <td>0</td>\n",
       "      <td>Casual</td>\n",
       "      <td>No warranty</td>\n",
       "      <td>No</td>\n",
       "      <td>56990</td>\n",
       "    </tr>\n",
       "    <tr>\n",
       "      <th>677</th>\n",
       "      <td>Lenovo</td>\n",
       "      <td>AMD</td>\n",
       "      <td>Ryzen 5</td>\n",
       "      <td>11</td>\n",
       "      <td>8</td>\n",
       "      <td>DDR4</td>\n",
       "      <td>512</td>\n",
       "      <td>0</td>\n",
       "      <td>Windows</td>\n",
       "      <td>64</td>\n",
       "      <td>4</td>\n",
       "      <td>Gaming</td>\n",
       "      <td>No warranty</td>\n",
       "      <td>No</td>\n",
       "      <td>59490</td>\n",
       "    </tr>\n",
       "    <tr>\n",
       "      <th>72</th>\n",
       "      <td>HP</td>\n",
       "      <td>Intel</td>\n",
       "      <td>Core i3</td>\n",
       "      <td>11</td>\n",
       "      <td>4</td>\n",
       "      <td>DDR4</td>\n",
       "      <td>256</td>\n",
       "      <td>0</td>\n",
       "      <td>Windows</td>\n",
       "      <td>64</td>\n",
       "      <td>0</td>\n",
       "      <td>ThinNlight</td>\n",
       "      <td>1</td>\n",
       "      <td>No</td>\n",
       "      <td>42490</td>\n",
       "    </tr>\n",
       "    <tr>\n",
       "      <th>180</th>\n",
       "      <td>ASUS</td>\n",
       "      <td>Intel</td>\n",
       "      <td>Core i3</td>\n",
       "      <td>10</td>\n",
       "      <td>4</td>\n",
       "      <td>DDR4</td>\n",
       "      <td>256</td>\n",
       "      <td>1024</td>\n",
       "      <td>Windows</td>\n",
       "      <td>64</td>\n",
       "      <td>0</td>\n",
       "      <td>Casual</td>\n",
       "      <td>No warranty</td>\n",
       "      <td>No</td>\n",
       "      <td>40990</td>\n",
       "    </tr>\n",
       "    <tr>\n",
       "      <th>568</th>\n",
       "      <td>ASUS</td>\n",
       "      <td>Intel</td>\n",
       "      <td>Core i7</td>\n",
       "      <td>10</td>\n",
       "      <td>16</td>\n",
       "      <td>LPDDR3</td>\n",
       "      <td>1024</td>\n",
       "      <td>0</td>\n",
       "      <td>Windows</td>\n",
       "      <td>64</td>\n",
       "      <td>0</td>\n",
       "      <td>Casual</td>\n",
       "      <td>No warranty</td>\n",
       "      <td>No</td>\n",
       "      <td>167990</td>\n",
       "    </tr>\n",
       "    <tr>\n",
       "      <th>541</th>\n",
       "      <td>ASUS</td>\n",
       "      <td>Intel</td>\n",
       "      <td>Core i7</td>\n",
       "      <td>10</td>\n",
       "      <td>16</td>\n",
       "      <td>LPDDR3</td>\n",
       "      <td>1024</td>\n",
       "      <td>0</td>\n",
       "      <td>Windows</td>\n",
       "      <td>64</td>\n",
       "      <td>2</td>\n",
       "      <td>Casual</td>\n",
       "      <td>1</td>\n",
       "      <td>No</td>\n",
       "      <td>124990</td>\n",
       "    </tr>\n",
       "    <tr>\n",
       "      <th>184</th>\n",
       "      <td>DELL</td>\n",
       "      <td>Intel</td>\n",
       "      <td>Core i3</td>\n",
       "      <td>10</td>\n",
       "      <td>4</td>\n",
       "      <td>DDR4</td>\n",
       "      <td>256</td>\n",
       "      <td>1024</td>\n",
       "      <td>Windows</td>\n",
       "      <td>64</td>\n",
       "      <td>0</td>\n",
       "      <td>ThinNlight</td>\n",
       "      <td>1</td>\n",
       "      <td>No</td>\n",
       "      <td>44290</td>\n",
       "    </tr>\n",
       "  </tbody>\n",
       "</table>\n",
       "</div>"
      ],
      "text/plain": [
       "      brand processor_brand processor_name  processor_gnrtn  ram_gb ram_type  \\\n",
       "597     MSI           Intel        Core i5               10       8   LPDDR4   \n",
       "526  Lenovo           Intel        Core i7               10      16     DDR4   \n",
       "496     MSI           Intel        Core i7               10       8     DDR4   \n",
       "427    ASUS           Intel        Core i5               10       8     DDR4   \n",
       "677  Lenovo             AMD        Ryzen 5               11       8     DDR4   \n",
       "72       HP           Intel        Core i3               11       4     DDR4   \n",
       "180    ASUS           Intel        Core i3               10       4     DDR4   \n",
       "568    ASUS           Intel        Core i7               10      16   LPDDR3   \n",
       "541    ASUS           Intel        Core i7               10      16   LPDDR3   \n",
       "184    DELL           Intel        Core i3               10       4     DDR4   \n",
       "\n",
       "      ssd   hdd       os  os_bit  graphic_card_gb      weight     warranty  \\\n",
       "597     0   512      DOS      32                4      Casual  No warranty   \n",
       "526   512     0  Windows      32                2      Casual  No warranty   \n",
       "496   512     0  Windows      64                0  ThinNlight  No warranty   \n",
       "427     0  1024  Windows      64                0      Casual  No warranty   \n",
       "677   512     0  Windows      64                4      Gaming  No warranty   \n",
       "72    256     0  Windows      64                0  ThinNlight           1    \n",
       "180   256  1024  Windows      64                0      Casual  No warranty   \n",
       "568  1024     0  Windows      64                0      Casual  No warranty   \n",
       "541  1024     0  Windows      64                2      Casual           1    \n",
       "184   256  1024  Windows      64                0  ThinNlight           1    \n",
       "\n",
       "    Touchscreen   Price  \n",
       "597          No  109590  \n",
       "526          No  162399  \n",
       "496          No   57990  \n",
       "427          No   56990  \n",
       "677          No   59490  \n",
       "72           No   42490  \n",
       "180          No   40990  \n",
       "568          No  167990  \n",
       "541          No  124990  \n",
       "184          No   44290  "
      ]
     },
     "execution_count": 110,
     "metadata": {},
     "output_type": "execute_result"
    }
   ],
   "source": [
    "df_train.sample(10)"
   ]
  },
  {
   "cell_type": "markdown",
   "id": "849e71b9",
   "metadata": {
    "papermill": {
     "duration": 0.023871,
     "end_time": "2023-11-27T22:12:44.562765",
     "exception": false,
     "start_time": "2023-11-27T22:12:44.538894",
     "status": "completed"
    },
    "tags": []
   },
   "source": [
    "#### Analysis on Operating_system feature :"
   ]
  },
  {
   "cell_type": "code",
   "execution_count": 111,
   "id": "0094bae3",
   "metadata": {
    "execution": {
     "iopub.execute_input": "2023-11-27T22:12:44.612809Z",
     "iopub.status.busy": "2023-11-27T22:12:44.611623Z",
     "iopub.status.idle": "2023-11-27T22:12:44.834088Z",
     "shell.execute_reply": "2023-11-27T22:12:44.833006Z"
    },
    "papermill": {
     "duration": 0.249551,
     "end_time": "2023-11-27T22:12:44.836213",
     "exception": false,
     "start_time": "2023-11-27T22:12:44.586662",
     "status": "completed"
    },
    "tags": []
   },
   "outputs": [
    {
     "data": {
      "text/plain": [
       "<Axes: xlabel='os', ylabel='count'>"
      ]
     },
     "execution_count": 111,
     "metadata": {},
     "output_type": "execute_result"
    },
    {
     "data": {
      "image/png": "[encoded data removed]",
      "text/plain": [
       "<Figure size 640x480 with 1 Axes>"
      ]
     },
     "metadata": {},
     "output_type": "display_data"
    }
   ],
   "source": [
    "sns.countplot(df_train, x =df_train['os'],palette='plasma')"
   ]
  },
  {
   "cell_type": "code",
   "execution_count": 112,
   "id": "8abe4074",
   "metadata": {
    "execution": {
     "iopub.execute_input": "2023-11-27T22:12:44.886800Z",
     "iopub.status.busy": "2023-11-27T22:12:44.886368Z",
     "iopub.status.idle": "2023-11-27T22:12:45.289210Z",
     "shell.execute_reply": "2023-11-27T22:12:45.288365Z"
    },
    "papermill": {
     "duration": 0.430664,
     "end_time": "2023-11-27T22:12:45.291277",
     "exception": false,
     "start_time": "2023-11-27T22:12:44.860613",
     "status": "completed"
    },
    "tags": []
   },
   "outputs": [
    {
     "data": {
      "text/plain": [
       "<Axes: xlabel='os', ylabel='Price'>"
      ]
     },
     "execution_count": 112,
     "metadata": {},
     "output_type": "execute_result"
    },
    {
     "data": {
      "image/png": "[encoded data removed]",
      "text/plain": [
       "<Figure size 640x480 with 1 Axes>"
      ]
     },
     "metadata": {},
     "output_type": "display_data"
    }
   ],
   "source": [
    "sns.barplot(x = df_train['os'], y= df_train['Price'])"
   ]
  },
  {
   "cell_type": "markdown",
   "id": "64d190c9",
   "metadata": {
    "papermill": {
     "duration": 0.024763,
     "end_time": "2023-11-27T22:12:45.341204",
     "exception": false,
     "start_time": "2023-11-27T22:12:45.316441",
     "status": "completed"
    },
    "tags": []
   },
   "source": [
    "#### Price Analysis"
   ]
  },
  {
   "cell_type": "code",
   "execution_count": 113,
   "id": "16343568",
   "metadata": {
    "execution": {
     "iopub.execute_input": "2023-11-27T22:12:45.393723Z",
     "iopub.status.busy": "2023-11-27T22:12:45.393074Z",
     "iopub.status.idle": "2023-11-27T22:12:45.787195Z",
     "shell.execute_reply": "2023-11-27T22:12:45.786327Z"
    },
    "papermill": {
     "duration": 0.422444,
     "end_time": "2023-11-27T22:12:45.789237",
     "exception": false,
     "start_time": "2023-11-27T22:12:45.366793",
     "status": "completed"
    },
    "tags": []
   },
   "outputs": [
    {
     "data": {
      "text/plain": [
       "<Axes: xlabel='Price', ylabel='Density'>"
      ]
     },
     "execution_count": 113,
     "metadata": {},
     "output_type": "execute_result"
    },
    {
     "data": {
      "image/png": "[encoded data removed]",
      "text/plain": [
       "<Figure size 640x480 with 1 Axes>"
      ]
     },
     "metadata": {},
     "output_type": "display_data"
    }
   ],
   "source": [
    "sns.distplot(df_train['Price'])"
   ]
  },
  {
   "cell_type": "code",
   "execution_count": 114,
   "id": "0a7b412d",
   "metadata": {
    "execution": {
     "iopub.execute_input": "2023-11-27T22:12:45.842828Z",
     "iopub.status.busy": "2023-11-27T22:12:45.842369Z",
     "iopub.status.idle": "2023-11-27T22:12:46.176797Z",
     "shell.execute_reply": "2023-11-27T22:12:46.175665Z"
    },
    "papermill": {
     "duration": 0.364213,
     "end_time": "2023-11-27T22:12:46.179309",
     "exception": false,
     "start_time": "2023-11-27T22:12:45.815096",
     "status": "completed"
    },
    "tags": []
   },
   "outputs": [
    {
     "data": {
      "text/plain": [
       "<Axes: xlabel='Price', ylabel='Density'>"
      ]
     },
     "execution_count": 114,
     "metadata": {},
     "output_type": "execute_result"
    },
    {
     "data": {
      "image/png": "[encoded data removed]",
      "text/plain": [
       "<Figure size 640x480 with 1 Axes>"
      ]
     },
     "metadata": {},
     "output_type": "display_data"
    }
   ],
   "source": [
    "sns.distplot(np.log(df_train['Price']))"
   ]
  },
  {
   "cell_type": "code",
   "execution_count": 115,
   "id": "43764aea",
   "metadata": {
    "execution": {
     "iopub.execute_input": "2023-11-27T22:12:46.235195Z",
     "iopub.status.busy": "2023-11-27T22:12:46.234137Z",
     "iopub.status.idle": "2023-11-27T22:12:46.238870Z",
     "shell.execute_reply": "2023-11-27T22:12:46.238133Z"
    },
    "papermill": {
     "duration": 0.034903,
     "end_time": "2023-11-27T22:12:46.240787",
     "exception": false,
     "start_time": "2023-11-27T22:12:46.205884",
     "status": "completed"
    },
    "tags": []
   },
   "outputs": [],
   "source": [
    "# sns.pairplot(df_train)"
   ]
  },
  {
   "cell_type": "code",
   "execution_count": 116,
   "id": "95af75f1",
   "metadata": {
    "execution": {
     "iopub.execute_input": "2023-11-27T22:12:46.295386Z",
     "iopub.status.busy": "2023-11-27T22:12:46.294583Z",
     "iopub.status.idle": "2023-11-27T22:12:46.308056Z",
     "shell.execute_reply": "2023-11-27T22:12:46.306868Z"
    },
    "papermill": {
     "duration": 0.042891,
     "end_time": "2023-11-27T22:12:46.310104",
     "exception": false,
     "start_time": "2023-11-27T22:12:46.267213",
     "status": "completed"
    },
    "tags": []
   },
   "outputs": [
    {
     "name": "stdout",
     "output_type": "stream",
     "text": [
      "<class 'pandas.core.frame.DataFrame'>\n",
      "RangeIndex: 823 entries, 0 to 822\n",
      "Data columns (total 15 columns):\n",
      " #   Column           Non-Null Count  Dtype \n",
      "---  ------           --------------  ----- \n",
      " 0   brand            823 non-null    object\n",
      " 1   processor_brand  823 non-null    object\n",
      " 2   processor_name   823 non-null    object\n",
      " 3   processor_gnrtn  823 non-null    int64 \n",
      " 4   ram_gb           823 non-null    int32 \n",
      " 5   ram_type         823 non-null    object\n",
      " 6   ssd              823 non-null    int32 \n",
      " 7   hdd              823 non-null    int32 \n",
      " 8   os               823 non-null    object\n",
      " 9   os_bit           823 non-null    int32 \n",
      " 10  graphic_card_gb  823 non-null    int32 \n",
      " 11  weight           823 non-null    object\n",
      " 12  warranty         823 non-null    object\n",
      " 13  Touchscreen      823 non-null    object\n",
      " 14  Price            823 non-null    int64 \n",
      "dtypes: int32(5), int64(2), object(8)\n",
      "memory usage: 80.5+ KB\n"
     ]
    }
   ],
   "source": [
    "df_train.info()"
   ]
  },
  {
   "cell_type": "code",
   "execution_count": 117,
   "id": "8e56279b",
   "metadata": {
    "execution": {
     "iopub.execute_input": "2023-11-27T22:12:46.369357Z",
     "iopub.status.busy": "2023-11-27T22:12:46.368692Z",
     "iopub.status.idle": "2023-11-27T22:12:46.875546Z",
     "shell.execute_reply": "2023-11-27T22:12:46.874598Z"
    },
    "papermill": {
     "duration": 0.541357,
     "end_time": "2023-11-27T22:12:46.877995",
     "exception": false,
     "start_time": "2023-11-27T22:12:46.336638",
     "status": "completed"
    },
    "tags": []
   },
   "outputs": [
    {
     "data": {
      "text/plain": [
       "<Axes: >"
      ]
     },
     "execution_count": 117,
     "metadata": {},
     "output_type": "execute_result"
    },
    {
     "data": {
      "image/png": "[encoded data removed]",
      "text/plain": [
       "<Figure size 640x480 with 2 Axes>"
      ]
     },
     "metadata": {},
     "output_type": "display_data"
    }
   ],
   "source": [
    "numeric_df = df_train.select_dtypes(include=['number'])\n",
    "sns.heatmap(numeric_df.corr(), annot=True)"
   ]
  },
  {
   "cell_type": "markdown",
   "id": "04586db0",
   "metadata": {
    "papermill": {
     "duration": 0.028513,
     "end_time": "2023-11-27T22:12:46.934105",
     "exception": false,
     "start_time": "2023-11-27T22:12:46.905592",
     "status": "completed"
    },
    "tags": []
   },
   "source": [
    "### Model Building"
   ]
  },
  {
   "cell_type": "code",
   "execution_count": 118,
   "id": "933fd55a",
   "metadata": {
    "execution": {
     "iopub.execute_input": "2023-11-27T22:12:46.990948Z",
     "iopub.status.busy": "2023-11-27T22:12:46.990512Z",
     "iopub.status.idle": "2023-11-27T22:12:46.999299Z",
     "shell.execute_reply": "2023-11-27T22:12:46.998051Z"
    },
    "papermill": {
     "duration": 0.0399,
     "end_time": "2023-11-27T22:12:47.001431",
     "exception": false,
     "start_time": "2023-11-27T22:12:46.961531",
     "status": "completed"
    },
    "tags": []
   },
   "outputs": [],
   "source": [
    "x = df_train.drop(['Price'], axis=1)\n",
    "y = np.log(df_train['Price'])"
   ]
  },
  {
   "cell_type": "code",
   "execution_count": 119,
   "id": "68f77299",
   "metadata": {
    "execution": {
     "iopub.execute_input": "2023-11-27T22:12:47.060790Z",
     "iopub.status.busy": "2023-11-27T22:12:47.060102Z",
     "iopub.status.idle": "2023-11-27T22:12:47.928282Z",
     "shell.execute_reply": "2023-11-27T22:12:47.927166Z"
    },
    "papermill": {
     "duration": 0.900781,
     "end_time": "2023-11-27T22:12:47.930766",
     "exception": false,
     "start_time": "2023-11-27T22:12:47.029985",
     "status": "completed"
    },
    "tags": []
   },
   "outputs": [],
   "source": [
    "from sklearn.model_selection import train_test_split\n",
    "from sklearn.preprocessing import MinMaxScaler,StandardScaler\n",
    "from sklearn.pipeline import Pipeline\n",
    "from sklearn.compose import ColumnTransformer\n",
    "from sklearn.preprocessing import LabelEncoder,OneHotEncoder\n",
    "from sklearn import metrics\n",
    "from sklearn.model_selection import RandomizedSearchCV\n",
    "from sklearn.linear_model import LinearRegression,Lasso,Ridge\n",
    "from sklearn.tree import DecisionTreeRegressor\n",
    "from sklearn.ensemble import RandomForestRegressor,GradientBoostingRegressor\n",
    "from sklearn.svm import SVR\n",
    "from sklearn.neighbors import KNeighborsRegressor\n",
    "from sklearn import tree"
   ]
  },
  {
   "cell_type": "code",
   "execution_count": 120,
   "id": "5a4dd870",
   "metadata": {
    "execution": {
     "iopub.execute_input": "2023-11-27T22:12:47.986807Z",
     "iopub.status.busy": "2023-11-27T22:12:47.985884Z",
     "iopub.status.idle": "2023-11-27T22:12:47.996787Z",
     "shell.execute_reply": "2023-11-27T22:12:47.995584Z"
    },
    "papermill": {
     "duration": 0.041255,
     "end_time": "2023-11-27T22:12:47.998973",
     "exception": false,
     "start_time": "2023-11-27T22:12:47.957718",
     "status": "completed"
    },
    "tags": []
   },
   "outputs": [
    {
     "data": {
      "text/plain": [
       "((699, 14), (124, 14))"
      ]
     },
     "execution_count": 120,
     "metadata": {},
     "output_type": "execute_result"
    }
   ],
   "source": [
    "X_train, X_test, y_train, y_test = train_test_split(x, y, test_size = 0.15, random_state = 2)\n",
    "X_train.shape, X_test.shape"
   ]
  },
  {
   "cell_type": "code",
   "execution_count": 121,
   "id": "7ee3fad6",
   "metadata": {
    "execution": {
     "iopub.execute_input": "2023-11-27T22:12:48.055349Z",
     "iopub.status.busy": "2023-11-27T22:12:48.054812Z",
     "iopub.status.idle": "2023-11-27T22:12:48.062615Z",
     "shell.execute_reply": "2023-11-27T22:12:48.061486Z"
    },
    "papermill": {
     "duration": 0.038959,
     "end_time": "2023-11-27T22:12:48.064931",
     "exception": false,
     "start_time": "2023-11-27T22:12:48.025972",
     "status": "completed"
    },
    "tags": []
   },
   "outputs": [
    {
     "data": {
      "text/plain": [
       "{0: 'brand',\n",
       " 1: 'processor_brand',\n",
       " 2: 'processor_name',\n",
       " 3: 'processor_gnrtn',\n",
       " 4: 'ram_gb',\n",
       " 5: 'ram_type',\n",
       " 6: 'ssd',\n",
       " 7: 'hdd',\n",
       " 8: 'os',\n",
       " 9: 'os_bit',\n",
       " 10: 'graphic_card_gb',\n",
       " 11: 'weight',\n",
       " 12: 'warranty',\n",
       " 13: 'Touchscreen'}"
      ]
     },
     "execution_count": 121,
     "metadata": {},
     "output_type": "execute_result"
    }
   ],
   "source": [
    "mapper = {i:value for i,value in enumerate(X_train.columns)}\n",
    "mapper"
   ]
  },
  {
   "cell_type": "code",
   "execution_count": 122,
   "id": "6f9fe546",
   "metadata": {
    "execution": {
     "iopub.execute_input": "2023-11-27T22:12:48.122029Z",
     "iopub.status.busy": "2023-11-27T22:12:48.121606Z",
     "iopub.status.idle": "2023-11-27T22:12:48.138766Z",
     "shell.execute_reply": "2023-11-27T22:12:48.137722Z"
    },
    "papermill": {
     "duration": 0.04856,
     "end_time": "2023-11-27T22:12:48.140832",
     "exception": false,
     "start_time": "2023-11-27T22:12:48.092272",
     "status": "completed"
    },
    "tags": []
   },
   "outputs": [
    {
     "data": {
      "text/html": [
       "<div>\n",
       "<style scoped>\n",
       "    .dataframe tbody tr th:only-of-type {\n",
       "        vertical-align: middle;\n",
       "    }\n",
       "\n",
       "    .dataframe tbody tr th {\n",
       "        vertical-align: top;\n",
       "    }\n",
       "\n",
       "    .dataframe thead th {\n",
       "        text-align: right;\n",
       "    }\n",
       "</style>\n",
       "<table border=\"1\" class=\"dataframe\">\n",
       "  <thead>\n",
       "    <tr style=\"text-align: right;\">\n",
       "      <th></th>\n",
       "      <th>brand</th>\n",
       "      <th>processor_brand</th>\n",
       "      <th>processor_name</th>\n",
       "      <th>processor_gnrtn</th>\n",
       "      <th>ram_gb</th>\n",
       "      <th>ram_type</th>\n",
       "      <th>ssd</th>\n",
       "      <th>hdd</th>\n",
       "      <th>os</th>\n",
       "      <th>os_bit</th>\n",
       "      <th>graphic_card_gb</th>\n",
       "      <th>weight</th>\n",
       "      <th>warranty</th>\n",
       "      <th>Touchscreen</th>\n",
       "      <th>Price</th>\n",
       "    </tr>\n",
       "  </thead>\n",
       "  <tbody>\n",
       "    <tr>\n",
       "      <th>0</th>\n",
       "      <td>ASUS</td>\n",
       "      <td>Intel</td>\n",
       "      <td>Core i3</td>\n",
       "      <td>10</td>\n",
       "      <td>4</td>\n",
       "      <td>DDR4</td>\n",
       "      <td>0</td>\n",
       "      <td>1024</td>\n",
       "      <td>Windows</td>\n",
       "      <td>64</td>\n",
       "      <td>0</td>\n",
       "      <td>Casual</td>\n",
       "      <td>No warranty</td>\n",
       "      <td>No</td>\n",
       "      <td>34649</td>\n",
       "    </tr>\n",
       "    <tr>\n",
       "      <th>1</th>\n",
       "      <td>Lenovo</td>\n",
       "      <td>Intel</td>\n",
       "      <td>Core i3</td>\n",
       "      <td>10</td>\n",
       "      <td>4</td>\n",
       "      <td>DDR4</td>\n",
       "      <td>0</td>\n",
       "      <td>1024</td>\n",
       "      <td>Windows</td>\n",
       "      <td>64</td>\n",
       "      <td>0</td>\n",
       "      <td>Casual</td>\n",
       "      <td>No warranty</td>\n",
       "      <td>No</td>\n",
       "      <td>38999</td>\n",
       "    </tr>\n",
       "    <tr>\n",
       "      <th>2</th>\n",
       "      <td>Lenovo</td>\n",
       "      <td>Intel</td>\n",
       "      <td>Core i3</td>\n",
       "      <td>10</td>\n",
       "      <td>4</td>\n",
       "      <td>DDR4</td>\n",
       "      <td>0</td>\n",
       "      <td>1024</td>\n",
       "      <td>Windows</td>\n",
       "      <td>64</td>\n",
       "      <td>0</td>\n",
       "      <td>Casual</td>\n",
       "      <td>No warranty</td>\n",
       "      <td>No</td>\n",
       "      <td>39999</td>\n",
       "    </tr>\n",
       "    <tr>\n",
       "      <th>3</th>\n",
       "      <td>ASUS</td>\n",
       "      <td>Intel</td>\n",
       "      <td>Core i5</td>\n",
       "      <td>10</td>\n",
       "      <td>8</td>\n",
       "      <td>DDR4</td>\n",
       "      <td>512</td>\n",
       "      <td>0</td>\n",
       "      <td>Windows</td>\n",
       "      <td>32</td>\n",
       "      <td>2</td>\n",
       "      <td>Casual</td>\n",
       "      <td>No warranty</td>\n",
       "      <td>No</td>\n",
       "      <td>69990</td>\n",
       "    </tr>\n",
       "    <tr>\n",
       "      <th>4</th>\n",
       "      <td>ASUS</td>\n",
       "      <td>Intel</td>\n",
       "      <td>Celeron Dual</td>\n",
       "      <td>11</td>\n",
       "      <td>4</td>\n",
       "      <td>DDR4</td>\n",
       "      <td>0</td>\n",
       "      <td>512</td>\n",
       "      <td>Windows</td>\n",
       "      <td>64</td>\n",
       "      <td>0</td>\n",
       "      <td>Casual</td>\n",
       "      <td>No warranty</td>\n",
       "      <td>No</td>\n",
       "      <td>26990</td>\n",
       "    </tr>\n",
       "  </tbody>\n",
       "</table>\n",
       "</div>"
      ],
      "text/plain": [
       "    brand processor_brand processor_name  processor_gnrtn  ram_gb ram_type  \\\n",
       "0    ASUS           Intel        Core i3               10       4     DDR4   \n",
       "1  Lenovo           Intel        Core i3               10       4     DDR4   \n",
       "2  Lenovo           Intel        Core i3               10       4     DDR4   \n",
       "3    ASUS           Intel        Core i5               10       8     DDR4   \n",
       "4    ASUS           Intel   Celeron Dual               11       4     DDR4   \n",
       "\n",
       "   ssd   hdd       os  os_bit  graphic_card_gb  weight     warranty  \\\n",
       "0    0  1024  Windows      64                0  Casual  No warranty   \n",
       "1    0  1024  Windows      64                0  Casual  No warranty   \n",
       "2    0  1024  Windows      64                0  Casual  No warranty   \n",
       "3  512     0  Windows      32                2  Casual  No warranty   \n",
       "4    0   512  Windows      64                0  Casual  No warranty   \n",
       "\n",
       "  Touchscreen  Price  \n",
       "0          No  34649  \n",
       "1          No  38999  \n",
       "2          No  39999  \n",
       "3          No  69990  \n",
       "4          No  26990  "
      ]
     },
     "execution_count": 122,
     "metadata": {},
     "output_type": "execute_result"
    }
   ],
   "source": [
    "df_train.head()"
   ]
  },
  {
   "cell_type": "code",
   "execution_count": 123,
   "id": "2434d3f4",
   "metadata": {
    "execution": {
     "iopub.execute_input": "2023-11-27T22:12:48.199174Z",
     "iopub.status.busy": "2023-11-27T22:12:48.198799Z",
     "iopub.status.idle": "2023-11-27T22:12:48.212525Z",
     "shell.execute_reply": "2023-11-27T22:12:48.211464Z"
    },
    "papermill": {
     "duration": 0.046157,
     "end_time": "2023-11-27T22:12:48.214939",
     "exception": false,
     "start_time": "2023-11-27T22:12:48.168782",
     "status": "completed"
    },
    "tags": []
   },
   "outputs": [
    {
     "name": "stdout",
     "output_type": "stream",
     "text": [
      "<class 'pandas.core.frame.DataFrame'>\n",
      "RangeIndex: 823 entries, 0 to 822\n",
      "Data columns (total 15 columns):\n",
      " #   Column           Non-Null Count  Dtype \n",
      "---  ------           --------------  ----- \n",
      " 0   brand            823 non-null    object\n",
      " 1   processor_brand  823 non-null    object\n",
      " 2   processor_name   823 non-null    object\n",
      " 3   processor_gnrtn  823 non-null    int64 \n",
      " 4   ram_gb           823 non-null    int32 \n",
      " 5   ram_type         823 non-null    object\n",
      " 6   ssd              823 non-null    int32 \n",
      " 7   hdd              823 non-null    int32 \n",
      " 8   os               823 non-null    object\n",
      " 9   os_bit           823 non-null    int32 \n",
      " 10  graphic_card_gb  823 non-null    int32 \n",
      " 11  weight           823 non-null    object\n",
      " 12  warranty         823 non-null    object\n",
      " 13  Touchscreen      823 non-null    object\n",
      " 14  Price            823 non-null    int64 \n",
      "dtypes: int32(5), int64(2), object(8)\n",
      "memory usage: 80.5+ KB\n"
     ]
    }
   ],
   "source": [
    "df_train.info()"
   ]
  },
  {
   "cell_type": "markdown",
   "id": "9b723d32",
   "metadata": {
    "papermill": {
     "duration": 0.027367,
     "end_time": "2023-11-27T22:12:48.270173",
     "exception": false,
     "start_time": "2023-11-27T22:12:48.242806",
     "status": "completed"
    },
    "tags": []
   },
   "source": [
    "## Linear Regression"
   ]
  },
  {
   "cell_type": "code",
   "execution_count": null,
   "id": "394f4f18",
   "metadata": {
    "execution": {
     "iopub.execute_input": "2023-11-27T22:12:48.327265Z",
     "iopub.status.busy": "2023-11-27T22:12:48.326896Z",
     "iopub.status.idle": "2023-11-27T22:12:48.374833Z",
     "shell.execute_reply": "2023-11-27T22:12:48.373723Z"
    },
    "papermill": {
     "duration": 0.080005,
     "end_time": "2023-11-27T22:12:48.377969",
     "exception": false,
     "start_time": "2023-11-27T22:12:48.297964",
     "status": "completed"
    },
    "tags": []
   },
   "outputs": [],
   "source": [
    "\n"
   ]
  },
  {
   "cell_type": "code",
   "execution_count": 124,
   "id": "7c067bb3",
   "metadata": {
    "execution": {
     "iopub.execute_input": "2023-11-27T22:12:48.479782Z",
     "iopub.status.busy": "2023-11-27T22:12:48.479074Z",
     "iopub.status.idle": "2023-11-27T22:12:48.485385Z",
     "shell.execute_reply": "2023-11-27T22:12:48.484608Z"
    },
    "papermill": {
     "duration": 0.060853,
     "end_time": "2023-11-27T22:12:48.487295",
     "exception": false,
     "start_time": "2023-11-27T22:12:48.426442",
     "status": "completed"
    },
    "tags": []
   },
   "outputs": [
    {
     "data": {
      "text/plain": [
       "1.1592681115738217"
      ]
     },
     "execution_count": 124,
     "metadata": {},
     "output_type": "execute_result"
    }
   ],
   "source": [
    "np.exp(0.14778886769451385)"
   ]
  },
  {
   "cell_type": "markdown",
   "id": "fc016427",
   "metadata": {
    "papermill": {
     "duration": 0.027546,
     "end_time": "2023-11-27T22:12:48.543152",
     "exception": false,
     "start_time": "2023-11-27T22:12:48.515606",
     "status": "completed"
    },
    "tags": []
   },
   "source": [
    "## Ridge Regression"
   ]
  },
  {
   "cell_type": "code",
   "execution_count": 125,
   "id": "9e1b5f8c",
   "metadata": {
    "execution": {
     "iopub.execute_input": "2023-11-27T22:12:48.600360Z",
     "iopub.status.busy": "2023-11-27T22:12:48.599645Z",
     "iopub.status.idle": "2023-11-27T22:12:48.629084Z",
     "shell.execute_reply": "2023-11-27T22:12:48.627958Z"
    },
    "papermill": {
     "duration": 0.061384,
     "end_time": "2023-11-27T22:12:48.632005",
     "exception": false,
     "start_time": "2023-11-27T22:12:48.570621",
     "status": "completed"
    },
    "tags": []
   },
   "outputs": [
    {
     "ename": "TypeError",
     "evalue": "OneHotEncoder.__init__() got an unexpected keyword argument 'sparse'",
     "output_type": "error",
     "traceback": [
      "\u001b[0;31m---------------------------------------------------------------------------\u001b[0m",
      "\u001b[0;31mTypeError\u001b[0m                                 Traceback (most recent call last)",
      "Cell \u001b[0;32mIn[125], line 2\u001b[0m\n\u001b[1;32m      1\u001b[0m encoding \u001b[38;5;241m=\u001b[39m ColumnTransformer(transformers \u001b[38;5;241m=\u001b[39m [\n\u001b[0;32m----> 2\u001b[0m     (\u001b[38;5;124m'\u001b[39m\u001b[38;5;124mcol_tnf\u001b[39m\u001b[38;5;124m'\u001b[39m, OneHotEncoder(sparse\u001b[38;5;241m=\u001b[39m\u001b[38;5;28;01mFalse\u001b[39;00m, drop\u001b[38;5;241m=\u001b[39m\u001b[38;5;124m'\u001b[39m\u001b[38;5;124mfirst\u001b[39m\u001b[38;5;124m'\u001b[39m), [\u001b[38;5;241m0\u001b[39m, \u001b[38;5;241m1\u001b[39m, \u001b[38;5;241m2\u001b[39m, \u001b[38;5;241m5\u001b[39m, \u001b[38;5;241m8\u001b[39m, \u001b[38;5;241m11\u001b[39m, \u001b[38;5;241m12\u001b[39m, \u001b[38;5;241m13\u001b[39m])\n\u001b[1;32m      3\u001b[0m ], remainder\u001b[38;5;241m=\u001b[39m\u001b[38;5;124m'\u001b[39m\u001b[38;5;124mpassthrough\u001b[39m\u001b[38;5;124m'\u001b[39m)\n\u001b[1;32m      5\u001b[0m ridge \u001b[38;5;241m=\u001b[39m Ridge(alpha\u001b[38;5;241m=\u001b[39m\u001b[38;5;241m10\u001b[39m)\n\u001b[1;32m      7\u001b[0m pipe \u001b[38;5;241m=\u001b[39m Pipeline([\n\u001b[1;32m      8\u001b[0m     (\u001b[38;5;124m'\u001b[39m\u001b[38;5;124mencoding\u001b[39m\u001b[38;5;124m'\u001b[39m, encoding),\n\u001b[1;32m      9\u001b[0m     (\u001b[38;5;124m'\u001b[39m\u001b[38;5;124mridge\u001b[39m\u001b[38;5;124m'\u001b[39m, ridge)\n\u001b[1;32m     10\u001b[0m ])\n",
      "\u001b[0;31mTypeError\u001b[0m: OneHotEncoder.__init__() got an unexpected keyword argument 'sparse'"
     ]
    }
   ],
   "source": [
    "\n",
    "encoding = ColumnTransformer(transformers = [\n",
    "    ('col_tnf', OneHotEncoder(sparse=False, drop='first'), [0, 1, 2, 5, 8, 11, 12, 13])\n",
    "], remainder='passthrough')\n",
    "\n",
    "ridge = Ridge(alpha=10)\n",
    "\n",
    "pipe = Pipeline([\n",
    "    ('encoding', encoding),\n",
    "    ('ridge', ridge)\n",
    "])\n",
    "\n",
    "pipe.fit(X_train, y_train)\n",
    "\n",
    "y_pred = pipe.predict(X_test)\n",
    "\n",
    "print('R2 score',metrics.r2_score(y_test,y_pred))\n",
    "print('MAE',metrics.mean_absolute_error(y_test,y_pred))"
   ]
  },
  {
   "cell_type": "markdown",
   "id": "8ed0bb47",
   "metadata": {
    "papermill": {
     "duration": 0.049702,
     "end_time": "2023-11-27T22:12:48.729186",
     "exception": false,
     "start_time": "2023-11-27T22:12:48.679484",
     "status": "completed"
    },
    "tags": []
   },
   "source": [
    "## LassoRegression"
   ]
  },
  {
   "cell_type": "code",
   "execution_count": 46,
   "id": "5dfba916",
   "metadata": {
    "execution": {
     "iopub.execute_input": "2023-11-27T22:12:48.790370Z",
     "iopub.status.busy": "2023-11-27T22:12:48.789940Z",
     "iopub.status.idle": "2023-11-27T22:12:48.827900Z",
     "shell.execute_reply": "2023-11-27T22:12:48.826327Z"
    },
    "papermill": {
     "duration": 0.070367,
     "end_time": "2023-11-27T22:12:48.831054",
     "exception": false,
     "start_time": "2023-11-27T22:12:48.760687",
     "status": "completed"
    },
    "tags": []
   },
   "outputs": [
    {
     "name": "stdout",
     "output_type": "stream",
     "text": [
      "R2 score 0.7894934505555293\n",
      "MAE 0.14987325648985514\n"
     ]
    }
   ],
   "source": [
    "\n",
    "encoding = ColumnTransformer(transformers = [\n",
    "    ('col_tnf', OneHotEncoder(sparse=False, drop='first'), [0, 1, 2, 5, 8, 11, 12, 13])\n",
    "], remainder='passthrough')\n",
    "\n",
    "lasso = Lasso(alpha=0.001)\n",
    "\n",
    "pipe = Pipeline([\n",
    "    ('encoding', encoding),\n",
    "    ('lasso', lasso)\n",
    "])\n",
    "\n",
    "pipe.fit(X_train, y_train)\n",
    "\n",
    "y_pred = pipe.predict(X_test)\n",
    "\n",
    "print('R2 score',metrics.r2_score(y_test,y_pred))\n",
    "print('MAE',metrics.mean_absolute_error(y_test,y_pred))"
   ]
  },
  {
   "cell_type": "markdown",
   "id": "2c1cf61a",
   "metadata": {
    "papermill": {
     "duration": 0.047901,
     "end_time": "2023-11-27T22:12:48.926623",
     "exception": false,
     "start_time": "2023-11-27T22:12:48.878722",
     "status": "completed"
    },
    "tags": []
   },
   "source": [
    "## Decision Tree"
   ]
  },
  {
   "cell_type": "code",
   "execution_count": 47,
   "id": "fbe08ad3",
   "metadata": {
    "execution": {
     "iopub.execute_input": "2023-11-27T22:12:48.988877Z",
     "iopub.status.busy": "2023-11-27T22:12:48.988184Z",
     "iopub.status.idle": "2023-11-27T22:12:49.015052Z",
     "shell.execute_reply": "2023-11-27T22:12:49.013990Z"
    },
    "papermill": {
     "duration": 0.058647,
     "end_time": "2023-11-27T22:12:49.017193",
     "exception": false,
     "start_time": "2023-11-27T22:12:48.958546",
     "status": "completed"
    },
    "tags": []
   },
   "outputs": [
    {
     "name": "stdout",
     "output_type": "stream",
     "text": [
      "R2 score 0.7474318146501708\n",
      "MAE 0.16860112556237652\n"
     ]
    }
   ],
   "source": [
    "\n",
    "encoding = ColumnTransformer(transformers = [\n",
    "    ('col_tnf', OneHotEncoder(sparse=False, drop='first'), [0, 1, 2, 5, 8, 11, 12, 13])\n",
    "], remainder='passthrough')\n",
    "\n",
    "dtr = DecisionTreeRegressor(max_depth=8)\n",
    "\n",
    "pipe = Pipeline([\n",
    "    ('encoding', encoding),\n",
    "    ('dtr', dtr)\n",
    "])\n",
    "\n",
    "pipe.fit(X_train, y_train)\n",
    "\n",
    "y_pred = pipe.predict(X_test)\n",
    "\n",
    "print('R2 score',metrics.r2_score(y_test,y_pred))\n",
    "print('MAE',metrics.mean_absolute_error(y_test,y_pred))"
   ]
  },
  {
   "cell_type": "markdown",
   "id": "e54288a9",
   "metadata": {
    "papermill": {
     "duration": 0.030038,
     "end_time": "2023-11-27T22:12:49.077035",
     "exception": false,
     "start_time": "2023-11-27T22:12:49.046997",
     "status": "completed"
    },
    "tags": []
   },
   "source": [
    "## Random Forest"
   ]
  },
  {
   "cell_type": "code",
   "execution_count": 48,
   "id": "272842a1",
   "metadata": {
    "execution": {
     "iopub.execute_input": "2023-11-27T22:12:49.138683Z",
     "iopub.status.busy": "2023-11-27T22:12:49.138256Z",
     "iopub.status.idle": "2023-11-27T22:12:49.410714Z",
     "shell.execute_reply": "2023-11-27T22:12:49.409564Z"
    },
    "papermill": {
     "duration": 0.305459,
     "end_time": "2023-11-27T22:12:49.412979",
     "exception": false,
     "start_time": "2023-11-27T22:12:49.107520",
     "status": "completed"
    },
    "tags": []
   },
   "outputs": [
    {
     "name": "stdout",
     "output_type": "stream",
     "text": [
      "R2 score 0.8276062297021033\n",
      "MAE 0.13506213253935379\n"
     ]
    }
   ],
   "source": [
    "\n",
    "encoding = ColumnTransformer(transformers = [\n",
    "    ('col_tnf', OneHotEncoder(sparse=False, drop='first'), [0, 1, 2, 5, 8, 11, 12, 13])\n",
    "], remainder='passthrough')\n",
    "\n",
    "random = RandomForestRegressor(n_estimators=100,\n",
    "                              random_state=3,\n",
    "                              max_samples=0.5,\n",
    "                              max_features=0.75,\n",
    "                              max_depth=15)\n",
    "\n",
    "pipe = Pipeline([\n",
    "    ('encoding', encoding),\n",
    "    ('random', random)\n",
    "])\n",
    "\n",
    "pipe.fit(X_train, y_train)\n",
    "\n",
    "y_pred = pipe.predict(X_test)\n",
    "\n",
    "print('R2 score',metrics.r2_score(y_test,y_pred))\n",
    "print('MAE',metrics.mean_absolute_error(y_test,y_pred))"
   ]
  },
  {
   "cell_type": "code",
   "execution_count": 49,
   "id": "c9ebf360",
   "metadata": {
    "execution": {
     "iopub.execute_input": "2023-11-27T22:12:49.470433Z",
     "iopub.status.busy": "2023-11-27T22:12:49.470066Z",
     "iopub.status.idle": "2023-11-27T22:12:49.484568Z",
     "shell.execute_reply": "2023-11-27T22:12:49.483549Z"
    },
    "papermill": {
     "duration": 0.046214,
     "end_time": "2023-11-27T22:12:49.487017",
     "exception": false,
     "start_time": "2023-11-27T22:12:49.440803",
     "status": "completed"
    },
    "tags": []
   },
   "outputs": [],
   "source": [
    "import pickle\n",
    "\n",
    "pickle.dump(df_train,open('df_train.pkl','wb'))\n",
    "pickle.dump(pipe,open('pipe.pkl','wb'))"
   ]
  },
  {
   "cell_type": "code",
   "execution_count": 50,
   "id": "37863078",
   "metadata": {
    "execution": {
     "iopub.execute_input": "2023-11-27T22:12:49.544543Z",
     "iopub.status.busy": "2023-11-27T22:12:49.544186Z",
     "iopub.status.idle": "2023-11-27T22:12:49.559942Z",
     "shell.execute_reply": "2023-11-27T22:12:49.558879Z"
    },
    "papermill": {
     "duration": 0.047167,
     "end_time": "2023-11-27T22:12:49.562098",
     "exception": false,
     "start_time": "2023-11-27T22:12:49.514931",
     "status": "completed"
    },
    "tags": []
   },
   "outputs": [
    {
     "data": {
      "text/html": [
       "<div>\n",
       "<style scoped>\n",
       "    .dataframe tbody tr th:only-of-type {\n",
       "        vertical-align: middle;\n",
       "    }\n",
       "\n",
       "    .dataframe tbody tr th {\n",
       "        vertical-align: top;\n",
       "    }\n",
       "\n",
       "    .dataframe thead th {\n",
       "        text-align: right;\n",
       "    }\n",
       "</style>\n",
       "<table border=\"1\" class=\"dataframe\">\n",
       "  <thead>\n",
       "    <tr style=\"text-align: right;\">\n",
       "      <th></th>\n",
       "      <th>brand</th>\n",
       "      <th>processor_brand</th>\n",
       "      <th>processor_name</th>\n",
       "      <th>processor_gnrtn</th>\n",
       "      <th>ram_gb</th>\n",
       "      <th>ram_type</th>\n",
       "      <th>ssd</th>\n",
       "      <th>hdd</th>\n",
       "      <th>os</th>\n",
       "      <th>os_bit</th>\n",
       "      <th>graphic_card_gb</th>\n",
       "      <th>weight</th>\n",
       "      <th>warranty</th>\n",
       "      <th>Touchscreen</th>\n",
       "      <th>Price</th>\n",
       "    </tr>\n",
       "  </thead>\n",
       "  <tbody>\n",
       "    <tr>\n",
       "      <th>0</th>\n",
       "      <td>ASUS</td>\n",
       "      <td>Intel</td>\n",
       "      <td>Core i3</td>\n",
       "      <td>10</td>\n",
       "      <td>4</td>\n",
       "      <td>DDR4</td>\n",
       "      <td>0</td>\n",
       "      <td>1024</td>\n",
       "      <td>Windows</td>\n",
       "      <td>64</td>\n",
       "      <td>0</td>\n",
       "      <td>Casual</td>\n",
       "      <td>No warranty</td>\n",
       "      <td>No</td>\n",
       "      <td>34649</td>\n",
       "    </tr>\n",
       "    <tr>\n",
       "      <th>1</th>\n",
       "      <td>Lenovo</td>\n",
       "      <td>Intel</td>\n",
       "      <td>Core i3</td>\n",
       "      <td>10</td>\n",
       "      <td>4</td>\n",
       "      <td>DDR4</td>\n",
       "      <td>0</td>\n",
       "      <td>1024</td>\n",
       "      <td>Windows</td>\n",
       "      <td>64</td>\n",
       "      <td>0</td>\n",
       "      <td>Casual</td>\n",
       "      <td>No warranty</td>\n",
       "      <td>No</td>\n",
       "      <td>38999</td>\n",
       "    </tr>\n",
       "    <tr>\n",
       "      <th>2</th>\n",
       "      <td>Lenovo</td>\n",
       "      <td>Intel</td>\n",
       "      <td>Core i3</td>\n",
       "      <td>10</td>\n",
       "      <td>4</td>\n",
       "      <td>DDR4</td>\n",
       "      <td>0</td>\n",
       "      <td>1024</td>\n",
       "      <td>Windows</td>\n",
       "      <td>64</td>\n",
       "      <td>0</td>\n",
       "      <td>Casual</td>\n",
       "      <td>No warranty</td>\n",
       "      <td>No</td>\n",
       "      <td>39999</td>\n",
       "    </tr>\n",
       "    <tr>\n",
       "      <th>3</th>\n",
       "      <td>ASUS</td>\n",
       "      <td>Intel</td>\n",
       "      <td>Core i5</td>\n",
       "      <td>10</td>\n",
       "      <td>8</td>\n",
       "      <td>DDR4</td>\n",
       "      <td>512</td>\n",
       "      <td>0</td>\n",
       "      <td>Windows</td>\n",
       "      <td>32</td>\n",
       "      <td>2</td>\n",
       "      <td>Casual</td>\n",
       "      <td>No warranty</td>\n",
       "      <td>No</td>\n",
       "      <td>69990</td>\n",
       "    </tr>\n",
       "    <tr>\n",
       "      <th>4</th>\n",
       "      <td>ASUS</td>\n",
       "      <td>Intel</td>\n",
       "      <td>Celeron Dual</td>\n",
       "      <td>11</td>\n",
       "      <td>4</td>\n",
       "      <td>DDR4</td>\n",
       "      <td>0</td>\n",
       "      <td>512</td>\n",
       "      <td>Windows</td>\n",
       "      <td>64</td>\n",
       "      <td>0</td>\n",
       "      <td>Casual</td>\n",
       "      <td>No warranty</td>\n",
       "      <td>No</td>\n",
       "      <td>26990</td>\n",
       "    </tr>\n",
       "  </tbody>\n",
       "</table>\n",
       "</div>"
      ],
      "text/plain": [
       "    brand processor_brand processor_name  processor_gnrtn  ram_gb ram_type  \\\n",
       "0    ASUS           Intel        Core i3               10       4     DDR4   \n",
       "1  Lenovo           Intel        Core i3               10       4     DDR4   \n",
       "2  Lenovo           Intel        Core i3               10       4     DDR4   \n",
       "3    ASUS           Intel        Core i5               10       8     DDR4   \n",
       "4    ASUS           Intel   Celeron Dual               11       4     DDR4   \n",
       "\n",
       "   ssd   hdd       os  os_bit  graphic_card_gb  weight     warranty  \\\n",
       "0    0  1024  Windows      64                0  Casual  No warranty   \n",
       "1    0  1024  Windows      64                0  Casual  No warranty   \n",
       "2    0  1024  Windows      64                0  Casual  No warranty   \n",
       "3  512     0  Windows      32                2  Casual  No warranty   \n",
       "4    0   512  Windows      64                0  Casual  No warranty   \n",
       "\n",
       "  Touchscreen  Price  \n",
       "0          No  34649  \n",
       "1          No  38999  \n",
       "2          No  39999  \n",
       "3          No  69990  \n",
       "4          No  26990  "
      ]
     },
     "execution_count": 50,
     "metadata": {},
     "output_type": "execute_result"
    }
   ],
   "source": [
    "df_train.head()"
   ]
  },
  {
   "cell_type": "markdown",
   "id": "86455b50",
   "metadata": {
    "papermill": {
     "duration": 0.027759,
     "end_time": "2023-11-27T22:12:49.617938",
     "exception": false,
     "start_time": "2023-11-27T22:12:49.590179",
     "status": "completed"
    },
    "tags": []
   },
   "source": [
    "## Hyperparameter Tuning for Random Forest "
   ]
  },
  {
   "cell_type": "code",
   "execution_count": 51,
   "id": "eea3659a",
   "metadata": {
    "execution": {
     "iopub.execute_input": "2023-11-27T22:12:49.675757Z",
     "iopub.status.busy": "2023-11-27T22:12:49.675362Z",
     "iopub.status.idle": "2023-11-27T22:12:49.682777Z",
     "shell.execute_reply": "2023-11-27T22:12:49.681724Z"
    },
    "papermill": {
     "duration": 0.039138,
     "end_time": "2023-11-27T22:12:49.684971",
     "exception": false,
     "start_time": "2023-11-27T22:12:49.645833",
     "status": "completed"
    },
    "tags": []
   },
   "outputs": [
    {
     "data": {
      "text/plain": [
       "['brand',\n",
       " 'processor_brand',\n",
       " 'processor_name',\n",
       " 'ram_type',\n",
       " 'os',\n",
       " 'weight',\n",
       " 'warranty',\n",
       " 'Touchscreen']"
      ]
     },
     "execution_count": 51,
     "metadata": {},
     "output_type": "execute_result"
    }
   ],
   "source": [
    "indexlist = [0, 1, 2, 5, 8, 11, 12, 13]\n",
    "transformlist = []\n",
    "for key,value in mapper.items():\n",
    "    if key in indexlist:\n",
    "        transformlist.append(value)\n",
    "        \n",
    "transformlist"
   ]
  },
  {
   "cell_type": "code",
   "execution_count": 52,
   "id": "80007de9",
   "metadata": {
    "execution": {
     "iopub.execute_input": "2023-11-27T22:12:49.743888Z",
     "iopub.status.busy": "2023-11-27T22:12:49.743470Z",
     "iopub.status.idle": "2023-11-27T22:12:49.773683Z",
     "shell.execute_reply": "2023-11-27T22:12:49.772593Z"
    },
    "papermill": {
     "duration": 0.06268,
     "end_time": "2023-11-27T22:12:49.775996",
     "exception": false,
     "start_time": "2023-11-27T22:12:49.713316",
     "status": "completed"
    },
    "tags": []
   },
   "outputs": [
    {
     "data": {
      "text/html": [
       "<div>\n",
       "<style scoped>\n",
       "    .dataframe tbody tr th:only-of-type {\n",
       "        vertical-align: middle;\n",
       "    }\n",
       "\n",
       "    .dataframe tbody tr th {\n",
       "        vertical-align: top;\n",
       "    }\n",
       "\n",
       "    .dataframe thead th {\n",
       "        text-align: right;\n",
       "    }\n",
       "</style>\n",
       "<table border=\"1\" class=\"dataframe\">\n",
       "  <thead>\n",
       "    <tr style=\"text-align: right;\">\n",
       "      <th></th>\n",
       "      <th>processor_gnrtn</th>\n",
       "      <th>ram_gb</th>\n",
       "      <th>ssd</th>\n",
       "      <th>hdd</th>\n",
       "      <th>os_bit</th>\n",
       "      <th>graphic_card_gb</th>\n",
       "      <th>brand_ASUS</th>\n",
       "      <th>brand_Avita</th>\n",
       "      <th>brand_DELL</th>\n",
       "      <th>brand_HP</th>\n",
       "      <th>...</th>\n",
       "      <th>ram_type_LPDDR4</th>\n",
       "      <th>ram_type_LPDDR4X</th>\n",
       "      <th>os_Mac</th>\n",
       "      <th>os_Windows</th>\n",
       "      <th>weight_Gaming</th>\n",
       "      <th>weight_ThinNlight</th>\n",
       "      <th>warranty_2</th>\n",
       "      <th>warranty_3</th>\n",
       "      <th>warranty_No warranty</th>\n",
       "      <th>Touchscreen_Yes</th>\n",
       "    </tr>\n",
       "  </thead>\n",
       "  <tbody>\n",
       "    <tr>\n",
       "      <th>0</th>\n",
       "      <td>10</td>\n",
       "      <td>4</td>\n",
       "      <td>0</td>\n",
       "      <td>1024</td>\n",
       "      <td>64</td>\n",
       "      <td>0</td>\n",
       "      <td>True</td>\n",
       "      <td>False</td>\n",
       "      <td>False</td>\n",
       "      <td>False</td>\n",
       "      <td>...</td>\n",
       "      <td>False</td>\n",
       "      <td>False</td>\n",
       "      <td>False</td>\n",
       "      <td>True</td>\n",
       "      <td>False</td>\n",
       "      <td>False</td>\n",
       "      <td>False</td>\n",
       "      <td>False</td>\n",
       "      <td>True</td>\n",
       "      <td>False</td>\n",
       "    </tr>\n",
       "    <tr>\n",
       "      <th>1</th>\n",
       "      <td>10</td>\n",
       "      <td>4</td>\n",
       "      <td>0</td>\n",
       "      <td>1024</td>\n",
       "      <td>64</td>\n",
       "      <td>0</td>\n",
       "      <td>False</td>\n",
       "      <td>False</td>\n",
       "      <td>False</td>\n",
       "      <td>False</td>\n",
       "      <td>...</td>\n",
       "      <td>False</td>\n",
       "      <td>False</td>\n",
       "      <td>False</td>\n",
       "      <td>True</td>\n",
       "      <td>False</td>\n",
       "      <td>False</td>\n",
       "      <td>False</td>\n",
       "      <td>False</td>\n",
       "      <td>True</td>\n",
       "      <td>False</td>\n",
       "    </tr>\n",
       "    <tr>\n",
       "      <th>2</th>\n",
       "      <td>10</td>\n",
       "      <td>4</td>\n",
       "      <td>0</td>\n",
       "      <td>1024</td>\n",
       "      <td>64</td>\n",
       "      <td>0</td>\n",
       "      <td>False</td>\n",
       "      <td>False</td>\n",
       "      <td>False</td>\n",
       "      <td>False</td>\n",
       "      <td>...</td>\n",
       "      <td>False</td>\n",
       "      <td>False</td>\n",
       "      <td>False</td>\n",
       "      <td>True</td>\n",
       "      <td>False</td>\n",
       "      <td>False</td>\n",
       "      <td>False</td>\n",
       "      <td>False</td>\n",
       "      <td>True</td>\n",
       "      <td>False</td>\n",
       "    </tr>\n",
       "    <tr>\n",
       "      <th>3</th>\n",
       "      <td>10</td>\n",
       "      <td>8</td>\n",
       "      <td>512</td>\n",
       "      <td>0</td>\n",
       "      <td>32</td>\n",
       "      <td>2</td>\n",
       "      <td>True</td>\n",
       "      <td>False</td>\n",
       "      <td>False</td>\n",
       "      <td>False</td>\n",
       "      <td>...</td>\n",
       "      <td>False</td>\n",
       "      <td>False</td>\n",
       "      <td>False</td>\n",
       "      <td>True</td>\n",
       "      <td>False</td>\n",
       "      <td>False</td>\n",
       "      <td>False</td>\n",
       "      <td>False</td>\n",
       "      <td>True</td>\n",
       "      <td>False</td>\n",
       "    </tr>\n",
       "    <tr>\n",
       "      <th>4</th>\n",
       "      <td>11</td>\n",
       "      <td>4</td>\n",
       "      <td>0</td>\n",
       "      <td>512</td>\n",
       "      <td>64</td>\n",
       "      <td>0</td>\n",
       "      <td>True</td>\n",
       "      <td>False</td>\n",
       "      <td>False</td>\n",
       "      <td>False</td>\n",
       "      <td>...</td>\n",
       "      <td>False</td>\n",
       "      <td>False</td>\n",
       "      <td>False</td>\n",
       "      <td>True</td>\n",
       "      <td>False</td>\n",
       "      <td>False</td>\n",
       "      <td>False</td>\n",
       "      <td>False</td>\n",
       "      <td>True</td>\n",
       "      <td>False</td>\n",
       "    </tr>\n",
       "  </tbody>\n",
       "</table>\n",
       "<p>5 rows × 38 columns</p>\n",
       "</div>"
      ],
      "text/plain": [
       "   processor_gnrtn  ram_gb  ssd   hdd  os_bit  graphic_card_gb  brand_ASUS  \\\n",
       "0               10       4    0  1024      64                0        True   \n",
       "1               10       4    0  1024      64                0       False   \n",
       "2               10       4    0  1024      64                0       False   \n",
       "3               10       8  512     0      32                2        True   \n",
       "4               11       4    0   512      64                0        True   \n",
       "\n",
       "   brand_Avita  brand_DELL  brand_HP  ...  ram_type_LPDDR4  ram_type_LPDDR4X  \\\n",
       "0        False       False     False  ...            False             False   \n",
       "1        False       False     False  ...            False             False   \n",
       "2        False       False     False  ...            False             False   \n",
       "3        False       False     False  ...            False             False   \n",
       "4        False       False     False  ...            False             False   \n",
       "\n",
       "   os_Mac  os_Windows  weight_Gaming  weight_ThinNlight  warranty_2   \\\n",
       "0   False        True          False              False        False   \n",
       "1   False        True          False              False        False   \n",
       "2   False        True          False              False        False   \n",
       "3   False        True          False              False        False   \n",
       "4   False        True          False              False        False   \n",
       "\n",
       "   warranty_3   warranty_No warranty  Touchscreen_Yes  \n",
       "0        False                  True            False  \n",
       "1        False                  True            False  \n",
       "2        False                  True            False  \n",
       "3        False                  True            False  \n",
       "4        False                  True            False  \n",
       "\n",
       "[5 rows x 38 columns]"
      ]
     },
     "execution_count": 52,
     "metadata": {},
     "output_type": "execute_result"
    }
   ],
   "source": [
    "x = pd.get_dummies(x,columns=transformlist,drop_first=True)\n",
    "x.head()"
   ]
  },
  {
   "cell_type": "code",
   "execution_count": 53,
   "id": "9b4189a7",
   "metadata": {
    "execution": {
     "iopub.execute_input": "2023-11-27T22:12:49.837879Z",
     "iopub.status.busy": "2023-11-27T22:12:49.837041Z",
     "iopub.status.idle": "2023-11-27T22:12:49.847053Z",
     "shell.execute_reply": "2023-11-27T22:12:49.846000Z"
    },
    "papermill": {
     "duration": 0.043194,
     "end_time": "2023-11-27T22:12:49.849296",
     "exception": false,
     "start_time": "2023-11-27T22:12:49.806102",
     "status": "completed"
    },
    "tags": []
   },
   "outputs": [
    {
     "data": {
      "text/plain": [
       "((699, 38), (124, 38))"
      ]
     },
     "execution_count": 53,
     "metadata": {},
     "output_type": "execute_result"
    }
   ],
   "source": [
    "X_train, X_test, y_train, y_test = train_test_split(x,y,\n",
    "                                                   test_size=0.15,random_state=2)\n",
    "\n",
    "X_train.shape,X_test.shape"
   ]
  },
  {
   "cell_type": "code",
   "execution_count": 54,
   "id": "e0558cef",
   "metadata": {
    "execution": {
     "iopub.execute_input": "2023-11-27T22:12:49.910158Z",
     "iopub.status.busy": "2023-11-27T22:12:49.909252Z",
     "iopub.status.idle": "2023-11-27T22:12:49.914374Z",
     "shell.execute_reply": "2023-11-27T22:12:49.913622Z"
    },
    "papermill": {
     "duration": 0.037839,
     "end_time": "2023-11-27T22:12:49.916500",
     "exception": false,
     "start_time": "2023-11-27T22:12:49.878661",
     "status": "completed"
    },
    "tags": []
   },
   "outputs": [],
   "source": [
    "from sklearn.model_selection import GridSearchCV"
   ]
  },
  {
   "cell_type": "code",
   "execution_count": 55,
   "id": "f50fd2de",
   "metadata": {
    "execution": {
     "iopub.execute_input": "2023-11-27T22:12:49.976955Z",
     "iopub.status.busy": "2023-11-27T22:12:49.976236Z",
     "iopub.status.idle": "2023-11-27T22:12:49.981044Z",
     "shell.execute_reply": "2023-11-27T22:12:49.980254Z"
    },
    "papermill": {
     "duration": 0.037508,
     "end_time": "2023-11-27T22:12:49.983027",
     "exception": false,
     "start_time": "2023-11-27T22:12:49.945519",
     "status": "completed"
    },
    "tags": []
   },
   "outputs": [],
   "source": [
    "rfr = RandomForestRegressor()"
   ]
  },
  {
   "cell_type": "code",
   "execution_count": 56,
   "id": "d5e8cbcb",
   "metadata": {
    "execution": {
     "iopub.execute_input": "2023-11-27T22:12:50.043849Z",
     "iopub.status.busy": "2023-11-27T22:12:50.043175Z",
     "iopub.status.idle": "2023-11-27T22:12:50.048488Z",
     "shell.execute_reply": "2023-11-27T22:12:50.047730Z"
    },
    "papermill": {
     "duration": 0.038256,
     "end_time": "2023-11-27T22:12:50.050563",
     "exception": false,
     "start_time": "2023-11-27T22:12:50.012307",
     "status": "completed"
    },
    "tags": []
   },
   "outputs": [],
   "source": [
    "param_grid = { \n",
    "            \"n_estimators\"      : [10,20,30],\n",
    "            \"max_features\"      : [\"sqrt\", \"log2\"],\n",
    "            \"min_samples_split\" : [2,4,8],\n",
    "            \"bootstrap\": [True, False],\n",
    "            }"
   ]
  },
  {
   "cell_type": "code",
   "execution_count": 57,
   "id": "3ac6cfc2",
   "metadata": {
    "execution": {
     "iopub.execute_input": "2023-11-27T22:12:50.112258Z",
     "iopub.status.busy": "2023-11-27T22:12:50.111238Z",
     "iopub.status.idle": "2023-11-27T22:12:50.116151Z",
     "shell.execute_reply": "2023-11-27T22:12:50.115345Z"
    },
    "papermill": {
     "duration": 0.038188,
     "end_time": "2023-11-27T22:12:50.118230",
     "exception": false,
     "start_time": "2023-11-27T22:12:50.080042",
     "status": "completed"
    },
    "tags": []
   },
   "outputs": [],
   "source": [
    "grid_search = GridSearchCV(rfr, param_grid, cv=5, scoring='r2')"
   ]
  },
  {
   "cell_type": "code",
   "execution_count": 58,
   "id": "cacb779f",
   "metadata": {
    "execution": {
     "iopub.execute_input": "2023-11-27T22:12:50.182784Z",
     "iopub.status.busy": "2023-11-27T22:12:50.182127Z",
     "iopub.status.idle": "2023-11-27T22:12:57.684716Z",
     "shell.execute_reply": "2023-11-27T22:12:57.683738Z"
    },
    "papermill": {
     "duration": 7.537062,
     "end_time": "2023-11-27T22:12:57.687693",
     "exception": false,
     "start_time": "2023-11-27T22:12:50.150631",
     "status": "completed"
    },
    "tags": []
   },
   "outputs": [
    {
     "data": {
      "text/html": [
       "<style>#sk-container-id-1 {color: black;background-color: white;}#sk-container-id-1 pre{padding: 0;}#sk-container-id-1 div.sk-toggleable {background-color: white;}#sk-container-id-1 label.sk-toggleable__label {cursor: pointer;display: block;width: 100%;margin-bottom: 0;padding: 0.3em;box-sizing: border-box;text-align: center;}#sk-container-id-1 label.sk-toggleable__label-arrow:before {content: \"▸\";float: left;margin-right: 0.25em;color: #696969;}#sk-container-id-1 label.sk-toggleable__label-arrow:hover:before {color: black;}#sk-container-id-1 div.sk-estimator:hover label.sk-toggleable__label-arrow:before {color: black;}#sk-container-id-1 div.sk-toggleable__content {max-height: 0;max-width: 0;overflow: hidden;text-align: left;background-color: #f0f8ff;}#sk-container-id-1 div.sk-toggleable__content pre {margin: 0.2em;color: black;border-radius: 0.25em;background-color: #f0f8ff;}#sk-container-id-1 input.sk-toggleable__control:checked~div.sk-toggleable__content {max-height: 200px;max-width: 100%;overflow: auto;}#sk-container-id-1 input.sk-toggleable__control:checked~label.sk-toggleable__label-arrow:before {content: \"▾\";}#sk-container-id-1 div.sk-estimator input.sk-toggleable__control:checked~label.sk-toggleable__label {background-color: #d4ebff;}#sk-container-id-1 div.sk-label input.sk-toggleable__control:checked~label.sk-toggleable__label {background-color: #d4ebff;}#sk-container-id-1 input.sk-hidden--visually {border: 0;clip: rect(1px 1px 1px 1px);clip: rect(1px, 1px, 1px, 1px);height: 1px;margin: -1px;overflow: hidden;padding: 0;position: absolute;width: 1px;}#sk-container-id-1 div.sk-estimator {font-family: monospace;background-color: #f0f8ff;border: 1px dotted black;border-radius: 0.25em;box-sizing: border-box;margin-bottom: 0.5em;}#sk-container-id-1 div.sk-estimator:hover {background-color: #d4ebff;}#sk-container-id-1 div.sk-parallel-item::after {content: \"\";width: 100%;border-bottom: 1px solid gray;flex-grow: 1;}#sk-container-id-1 div.sk-label:hover label.sk-toggleable__label {background-color: #d4ebff;}#sk-container-id-1 div.sk-serial::before {content: \"\";position: absolute;border-left: 1px solid gray;box-sizing: border-box;top: 0;bottom: 0;left: 50%;z-index: 0;}#sk-container-id-1 div.sk-serial {display: flex;flex-direction: column;align-items: center;background-color: white;padding-right: 0.2em;padding-left: 0.2em;position: relative;}#sk-container-id-1 div.sk-item {position: relative;z-index: 1;}#sk-container-id-1 div.sk-parallel {display: flex;align-items: stretch;justify-content: center;background-color: white;position: relative;}#sk-container-id-1 div.sk-item::before, #sk-container-id-1 div.sk-parallel-item::before {content: \"\";position: absolute;border-left: 1px solid gray;box-sizing: border-box;top: 0;bottom: 0;left: 50%;z-index: -1;}#sk-container-id-1 div.sk-parallel-item {display: flex;flex-direction: column;z-index: 1;position: relative;background-color: white;}#sk-container-id-1 div.sk-parallel-item:first-child::after {align-self: flex-end;width: 50%;}#sk-container-id-1 div.sk-parallel-item:last-child::after {align-self: flex-start;width: 50%;}#sk-container-id-1 div.sk-parallel-item:only-child::after {width: 0;}#sk-container-id-1 div.sk-dashed-wrapped {border: 1px dashed gray;margin: 0 0.4em 0.5em 0.4em;box-sizing: border-box;padding-bottom: 0.4em;background-color: white;}#sk-container-id-1 div.sk-label label {font-family: monospace;font-weight: bold;display: inline-block;line-height: 1.2em;}#sk-container-id-1 div.sk-label-container {text-align: center;}#sk-container-id-1 div.sk-container {/* jupyter's `normalize.less` sets `[hidden] { display: none; }` but bootstrap.min.css set `[hidden] { display: none !important; }` so we also need the `!important` here to be able to override the default hidden behavior on the sphinx rendered scikit-learn.org. See: https://github.com/scikit-learn/scikit-learn/issues/21755 */display: inline-block !important;position: relative;}#sk-container-id-1 div.sk-text-repr-fallback {display: none;}</style><div id=\"sk-container-id-1\" class=\"sk-top-container\"><div class=\"sk-text-repr-fallback\"><pre>GridSearchCV(cv=5, estimator=RandomForestRegressor(),\n",
       "             param_grid={&#x27;bootstrap&#x27;: [True, False],\n",
       "                         &#x27;max_features&#x27;: [&#x27;sqrt&#x27;, &#x27;log2&#x27;],\n",
       "                         &#x27;min_samples_split&#x27;: [2, 4, 8],\n",
       "                         &#x27;n_estimators&#x27;: [10, 20, 30]},\n",
       "             scoring=&#x27;r2&#x27;)</pre><b>In a Jupyter environment, please rerun this cell to show the HTML representation or trust the notebook. <br />On GitHub, the HTML representation is unable to render, please try loading this page with nbviewer.org.</b></div><div class=\"sk-container\" hidden><div class=\"sk-item sk-dashed-wrapped\"><div class=\"sk-label-container\"><div class=\"sk-label sk-toggleable\"><input class=\"sk-toggleable__control sk-hidden--visually\" id=\"sk-estimator-id-1\" type=\"checkbox\" ><label for=\"sk-estimator-id-1\" class=\"sk-toggleable__label sk-toggleable__label-arrow\">GridSearchCV</label><div class=\"sk-toggleable__content\"><pre>GridSearchCV(cv=5, estimator=RandomForestRegressor(),\n",
       "             param_grid={&#x27;bootstrap&#x27;: [True, False],\n",
       "                         &#x27;max_features&#x27;: [&#x27;sqrt&#x27;, &#x27;log2&#x27;],\n",
       "                         &#x27;min_samples_split&#x27;: [2, 4, 8],\n",
       "                         &#x27;n_estimators&#x27;: [10, 20, 30]},\n",
       "             scoring=&#x27;r2&#x27;)</pre></div></div></div><div class=\"sk-parallel\"><div class=\"sk-parallel-item\"><div class=\"sk-item\"><div class=\"sk-label-container\"><div class=\"sk-label sk-toggleable\"><input class=\"sk-toggleable__control sk-hidden--visually\" id=\"sk-estimator-id-2\" type=\"checkbox\" ><label for=\"sk-estimator-id-2\" class=\"sk-toggleable__label sk-toggleable__label-arrow\">estimator: RandomForestRegressor</label><div class=\"sk-toggleable__content\"><pre>RandomForestRegressor()</pre></div></div></div><div class=\"sk-serial\"><div class=\"sk-item\"><div class=\"sk-estimator sk-toggleable\"><input class=\"sk-toggleable__control sk-hidden--visually\" id=\"sk-estimator-id-3\" type=\"checkbox\" ><label for=\"sk-estimator-id-3\" class=\"sk-toggleable__label sk-toggleable__label-arrow\">RandomForestRegressor</label><div class=\"sk-toggleable__content\"><pre>RandomForestRegressor()</pre></div></div></div></div></div></div></div></div></div></div>"
      ],
      "text/plain": [
       "GridSearchCV(cv=5, estimator=RandomForestRegressor(),\n",
       "             param_grid={'bootstrap': [True, False],\n",
       "                         'max_features': ['sqrt', 'log2'],\n",
       "                         'min_samples_split': [2, 4, 8],\n",
       "                         'n_estimators': [10, 20, 30]},\n",
       "             scoring='r2')"
      ]
     },
     "execution_count": 58,
     "metadata": {},
     "output_type": "execute_result"
    }
   ],
   "source": [
    "grid_search.fit(X_train,y_train)"
   ]
  },
  {
   "cell_type": "code",
   "execution_count": 59,
   "id": "14a604fc",
   "metadata": {
    "execution": {
     "iopub.execute_input": "2023-11-27T22:12:57.777049Z",
     "iopub.status.busy": "2023-11-27T22:12:57.776638Z",
     "iopub.status.idle": "2023-11-27T22:12:57.784972Z",
     "shell.execute_reply": "2023-11-27T22:12:57.783021Z"
    },
    "papermill": {
     "duration": 0.043512,
     "end_time": "2023-11-27T22:12:57.787153",
     "exception": false,
     "start_time": "2023-11-27T22:12:57.743641",
     "status": "completed"
    },
    "tags": []
   },
   "outputs": [
    {
     "name": "stdout",
     "output_type": "stream",
     "text": [
      "Best hyper parameter : {'bootstrap': False, 'max_features': 'sqrt', 'min_samples_split': 4, 'n_estimators': 20}\n",
      "Best model : RandomForestRegressor(bootstrap=False, max_features='sqrt', min_samples_split=4,\n",
      "                      n_estimators=20)\n"
     ]
    }
   ],
   "source": [
    "print('Best hyper parameter :' , grid_search.best_params_)\n",
    "print('Best model :' , grid_search.best_estimator_)"
   ]
  },
  {
   "cell_type": "code",
   "execution_count": 60,
   "id": "c09930ca",
   "metadata": {
    "execution": {
     "iopub.execute_input": "2023-11-27T22:12:57.851969Z",
     "iopub.status.busy": "2023-11-27T22:12:57.851463Z",
     "iopub.status.idle": "2023-11-27T22:12:57.857119Z",
     "shell.execute_reply": "2023-11-27T22:12:57.855940Z"
    },
    "papermill": {
     "duration": 0.041354,
     "end_time": "2023-11-27T22:12:57.859343",
     "exception": false,
     "start_time": "2023-11-27T22:12:57.817989",
     "status": "completed"
    },
    "tags": []
   },
   "outputs": [],
   "source": [
    "rfr =  RandomForestRegressor(bootstrap=False, max_features='log2', min_samples_split=4,\n",
    "                      n_estimators=30)"
   ]
  },
  {
   "cell_type": "code",
   "execution_count": 61,
   "id": "5d93b5f6",
   "metadata": {
    "execution": {
     "iopub.execute_input": "2023-11-27T22:12:57.927810Z",
     "iopub.status.busy": "2023-11-27T22:12:57.926831Z",
     "iopub.status.idle": "2023-11-27T22:12:57.989435Z",
     "shell.execute_reply": "2023-11-27T22:12:57.988338Z"
    },
    "papermill": {
     "duration": 0.099244,
     "end_time": "2023-11-27T22:12:57.991931",
     "exception": false,
     "start_time": "2023-11-27T22:12:57.892687",
     "status": "completed"
    },
    "tags": []
   },
   "outputs": [],
   "source": [
    "rf_grid = rfr.fit(X_train,y_train)"
   ]
  },
  {
   "cell_type": "code",
   "execution_count": 62,
   "id": "edee52da",
   "metadata": {
    "execution": {
     "iopub.execute_input": "2023-11-27T22:12:58.055972Z",
     "iopub.status.busy": "2023-11-27T22:12:58.055540Z",
     "iopub.status.idle": "2023-11-27T22:12:58.066709Z",
     "shell.execute_reply": "2023-11-27T22:12:58.065647Z"
    },
    "papermill": {
     "duration": 0.04621,
     "end_time": "2023-11-27T22:12:58.069171",
     "exception": false,
     "start_time": "2023-11-27T22:12:58.022961",
     "status": "completed"
    },
    "tags": []
   },
   "outputs": [],
   "source": [
    "y_pred_rfr_grid = rf_grid.predict(X_test)"
   ]
  },
  {
   "cell_type": "code",
   "execution_count": 63,
   "id": "416d8068",
   "metadata": {
    "execution": {
     "iopub.execute_input": "2023-11-27T22:12:58.132290Z",
     "iopub.status.busy": "2023-11-27T22:12:58.131156Z",
     "iopub.status.idle": "2023-11-27T22:12:58.139244Z",
     "shell.execute_reply": "2023-11-27T22:12:58.137949Z"
    },
    "papermill": {
     "duration": 0.042174,
     "end_time": "2023-11-27T22:12:58.141542",
     "exception": false,
     "start_time": "2023-11-27T22:12:58.099368",
     "status": "completed"
    },
    "tags": []
   },
   "outputs": [
    {
     "name": "stdout",
     "output_type": "stream",
     "text": [
      "R2 score 0.82571169438382\n",
      "MAE 0.14231597465920104\n"
     ]
    }
   ],
   "source": [
    "print('R2 score',metrics.r2_score(y_test,y_pred_rfr_grid))\n",
    "print('MAE',metrics.mean_absolute_error(y_test,y_pred_rfr_grid))"
   ]
  },
  {
   "cell_type": "code",
   "execution_count": 64,
   "id": "06c8a9f9",
   "metadata": {
    "execution": {
     "iopub.execute_input": "2023-11-27T22:12:58.206641Z",
     "iopub.status.busy": "2023-11-27T22:12:58.206164Z",
     "iopub.status.idle": "2023-11-27T22:12:58.213604Z",
     "shell.execute_reply": "2023-11-27T22:12:58.212436Z"
    },
    "papermill": {
     "duration": 0.041206,
     "end_time": "2023-11-27T22:12:58.215924",
     "exception": false,
     "start_time": "2023-11-27T22:12:58.174718",
     "status": "completed"
    },
    "tags": []
   },
   "outputs": [
    {
     "data": {
      "text/plain": [
       "1.1462405626383085"
      ]
     },
     "execution_count": 64,
     "metadata": {},
     "output_type": "execute_result"
    }
   ],
   "source": [
    "np.exp(0.1364875113056222)"
   ]
  },
  {
   "cell_type": "code",
   "execution_count": 65,
   "id": "a81b1c72",
   "metadata": {
    "execution": {
     "iopub.execute_input": "2023-11-27T22:12:58.280293Z",
     "iopub.status.busy": "2023-11-27T22:12:58.279778Z",
     "iopub.status.idle": "2023-11-27T22:12:59.584909Z",
     "shell.execute_reply": "2023-11-27T22:12:59.583763Z"
    },
    "papermill": {
     "duration": 1.340559,
     "end_time": "2023-11-27T22:12:59.587471",
     "exception": false,
     "start_time": "2023-11-27T22:12:58.246912",
     "status": "completed"
    },
    "tags": []
   },
   "outputs": [
    {
     "data": {
      "text/plain": [
       "[array([10.49008612]),\n",
       " array([10.58222119]),\n",
       " array([10.58222119]),\n",
       " array([11.21546277]),\n",
       " array([10.09628365]),\n",
       " array([10.09628365]),\n",
       " array([10.04775132]),\n",
       " array([11.06867329]),\n",
       " array([10.77383567]),\n",
       " array([11.20077596]),\n",
       " array([11.25367958]),\n",
       " array([11.20077596]),\n",
       " array([9.84898641]),\n",
       " array([10.09628365]),\n",
       " array([10.5382686]),\n",
       " array([10.88379824]),\n",
       " array([11.0798745]),\n",
       " array([10.38961705]),\n",
       " array([10.68775274]),\n",
       " array([10.38961705]),\n",
       " array([10.53746637]),\n",
       " array([10.11715037]),\n",
       " array([10.63089236]),\n",
       " array([10.77798968]),\n",
       " array([10.48236142]),\n",
       " array([10.55804396]),\n",
       " array([10.55526377]),\n",
       " array([10.48881738]),\n",
       " array([10.60182326]),\n",
       " array([10.59754128]),\n",
       " array([10.88379824]),\n",
       " array([10.56809952]),\n",
       " array([10.56388221]),\n",
       " array([10.6122585]),\n",
       " array([10.60421065]),\n",
       " array([10.54849932]),\n",
       " array([10.6490391]),\n",
       " array([10.6122585]),\n",
       " array([10.60421065]),\n",
       " array([10.66264271]),\n",
       " array([10.59060387]),\n",
       " array([10.88080868]),\n",
       " array([10.52291272]),\n",
       " array([10.5858751]),\n",
       " array([10.64505165]),\n",
       " array([10.6122585]),\n",
       " array([10.60857259]),\n",
       " array([10.6490391]),\n",
       " array([10.8746898]),\n",
       " array([10.6490391]),\n",
       " array([10.66264271]),\n",
       " array([10.60421065]),\n",
       " array([10.6122585]),\n",
       " array([10.60258929]),\n",
       " array([10.65840825]),\n",
       " array([10.55864828]),\n",
       " array([10.58741282]),\n",
       " array([10.68989039]),\n",
       " array([10.55818053]),\n",
       " array([10.68824485]),\n",
       " array([10.51540115]),\n",
       " array([10.60661581]),\n",
       " array([10.62035636]),\n",
       " array([10.59060387]),\n",
       " array([10.16971201]),\n",
       " array([10.83770139]),\n",
       " array([10.57221875]),\n",
       " array([10.60661581]),\n",
       " array([10.56459938]),\n",
       " array([10.5858751]),\n",
       " array([10.57679862]),\n",
       " array([10.63175601]),\n",
       " array([10.68989039]),\n",
       " array([10.62035636]),\n",
       " array([10.56459938]),\n",
       " array([10.68989039]),\n",
       " array([10.66640169]),\n",
       " array([10.71094913]),\n",
       " array([10.62035636]),\n",
       " array([10.59060387]),\n",
       " array([10.60922446]),\n",
       " array([10.5309511]),\n",
       " array([10.79203385]),\n",
       " array([10.72547271]),\n",
       " array([9.99609334]),\n",
       " array([10.9089092]),\n",
       " array([10.54167535]),\n",
       " array([10.67623616]),\n",
       " array([10.67623616]),\n",
       " array([10.62512485]),\n",
       " array([10.71275315]),\n",
       " array([10.89548932]),\n",
       " array([10.71275315]),\n",
       " array([10.71275315]),\n",
       " array([10.6063212]),\n",
       " array([10.70625503]),\n",
       " array([10.65739363]),\n",
       " array([10.67623616]),\n",
       " array([10.62537757]),\n",
       " array([10.68661078]),\n",
       " array([10.76676023]),\n",
       " array([10.64849559]),\n",
       " array([10.66885898]),\n",
       " array([10.91076402]),\n",
       " array([10.71275315]),\n",
       " array([10.76676023]),\n",
       " array([10.70804966]),\n",
       " array([10.71275315]),\n",
       " array([10.9456069]),\n",
       " array([10.7125773]),\n",
       " array([10.6821062]),\n",
       " array([10.6821062]),\n",
       " array([10.66885898]),\n",
       " array([10.668381]),\n",
       " array([10.76717614]),\n",
       " array([10.661241]),\n",
       " array([11.07046767]),\n",
       " array([10.77591188]),\n",
       " array([10.76717614]),\n",
       " array([10.62512485]),\n",
       " array([10.62537757]),\n",
       " array([10.77591188]),\n",
       " array([10.62512485]),\n",
       " array([10.7970875]),\n",
       " array([10.76717614]),\n",
       " array([10.62512485]),\n",
       " array([10.6634301]),\n",
       " array([10.96151398]),\n",
       " array([10.70625503]),\n",
       " array([10.97864859]),\n",
       " array([10.46226735]),\n",
       " array([10.51841292]),\n",
       " array([10.63850869]),\n",
       " array([10.63850869]),\n",
       " array([10.58215594]),\n",
       " array([10.67840524]),\n",
       " array([10.50710682]),\n",
       " array([10.69560733]),\n",
       " array([10.57750433]),\n",
       " array([10.51833439]),\n",
       " array([10.55218481]),\n",
       " array([10.65984703]),\n",
       " array([10.6230284]),\n",
       " array([10.56408086]),\n",
       " array([10.61098079]),\n",
       " array([10.61098079]),\n",
       " array([10.67562626]),\n",
       " array([10.61098079]),\n",
       " array([10.46894621]),\n",
       " array([10.56031361]),\n",
       " array([10.51833439]),\n",
       " array([10.46894621]),\n",
       " array([10.66488191]),\n",
       " array([9.99609334]),\n",
       " array([10.56031361]),\n",
       " array([10.65984703]),\n",
       " array([10.49008612]),\n",
       " array([10.62057011]),\n",
       " array([10.73336965]),\n",
       " array([10.57750433]),\n",
       " array([10.61193369]),\n",
       " array([10.49036513]),\n",
       " array([10.69560733]),\n",
       " array([9.99609334]),\n",
       " array([10.69560733]),\n",
       " array([10.46826622]),\n",
       " array([10.55218481]),\n",
       " array([9.99609334]),\n",
       " array([10.61918975]),\n",
       " array([10.48743385]),\n",
       " array([9.99609334]),\n",
       " array([10.66071565]),\n",
       " array([10.7043491]),\n",
       " array([10.7043491]),\n",
       " array([10.63694367]),\n",
       " array([10.66439824]),\n",
       " array([10.61917778]),\n",
       " array([10.7373342]),\n",
       " array([10.66439824]),\n",
       " array([10.68492813]),\n",
       " array([10.61309487]),\n",
       " array([10.66439824]),\n",
       " array([10.66439824]),\n",
       " array([10.69007817]),\n",
       " array([10.69007817]),\n",
       " array([10.68014015]),\n",
       " array([10.66439824]),\n",
       " array([10.70150181]),\n",
       " array([9.89994469]),\n",
       " array([9.99609334]),\n",
       " array([10.21339066]),\n",
       " array([10.21339066]),\n",
       " array([10.41055555]),\n",
       " array([10.44314256]),\n",
       " array([9.9644747]),\n",
       " array([9.9644747]),\n",
       " array([10.8895945]),\n",
       " array([11.00306182]),\n",
       " array([11.22130668]),\n",
       " array([11.26368547]),\n",
       " array([11.37236812]),\n",
       " array([11.47583655]),\n",
       " array([11.20974833]),\n",
       " array([11.39360004]),\n",
       " array([11.32765973]),\n",
       " array([11.02335265]),\n",
       " array([10.89522797]),\n",
       " array([11.26885053]),\n",
       " array([10.84364987]),\n",
       " array([11.02844254]),\n",
       " array([11.36877427]),\n",
       " array([11.63007863]),\n",
       " array([11.08383929]),\n",
       " array([10.84364987]),\n",
       " array([11.00224967]),\n",
       " array([10.93867387]),\n",
       " array([11.03558876]),\n",
       " array([10.95544394]),\n",
       " array([11.15265635]),\n",
       " array([11.05343879]),\n",
       " array([11.04650821]),\n",
       " array([10.99306569]),\n",
       " array([10.86971217]),\n",
       " array([11.0593015]),\n",
       " array([11.08182392]),\n",
       " array([11.17624155]),\n",
       " array([10.96842467]),\n",
       " array([10.97147451]),\n",
       " array([11.20143971]),\n",
       " array([10.83381323]),\n",
       " array([10.99955439]),\n",
       " array([11.20143971]),\n",
       " array([11.24462671]),\n",
       " array([11.37479386]),\n",
       " array([11.06823201]),\n",
       " array([11.05343879]),\n",
       " array([11.20071392]),\n",
       " array([11.20071392]),\n",
       " array([11.0593015]),\n",
       " array([11.02576449]),\n",
       " array([10.93867387]),\n",
       " array([11.25300395]),\n",
       " array([11.15265635]),\n",
       " array([11.03558876]),\n",
       " array([10.96842467]),\n",
       " array([11.14787082]),\n",
       " array([11.02576449]),\n",
       " array([11.33680422]),\n",
       " array([11.11233821]),\n",
       " array([11.14787082]),\n",
       " array([11.1202764]),\n",
       " array([10.94303361]),\n",
       " array([11.60848373]),\n",
       " array([10.91475439]),\n",
       " array([10.99306569]),\n",
       " array([10.99306569]),\n",
       " array([11.15265635]),\n",
       " array([11.10460594]),\n",
       " array([10.93674069]),\n",
       " array([11.0826794]),\n",
       " array([11.28494979]),\n",
       " array([11.05343879]),\n",
       " array([11.03558876]),\n",
       " array([11.02576449]),\n",
       " array([10.99306569]),\n",
       " array([11.02576449]),\n",
       " array([11.03558876]),\n",
       " array([11.18510324]),\n",
       " array([11.3583467]),\n",
       " array([11.3085626]),\n",
       " array([11.15954898]),\n",
       " array([11.06905117]),\n",
       " array([11.18510324]),\n",
       " array([11.11239953]),\n",
       " array([11.12959362]),\n",
       " array([11.03726645]),\n",
       " array([11.29760824]),\n",
       " array([11.00857154]),\n",
       " array([11.02110625]),\n",
       " array([11.10246692]),\n",
       " array([11.06699254]),\n",
       " array([10.99306569]),\n",
       " array([11.17624155]),\n",
       " array([11.34373699]),\n",
       " array([11.03558876]),\n",
       " array([11.05893315]),\n",
       " array([11.33673618]),\n",
       " array([10.93867387]),\n",
       " array([11.06699254]),\n",
       " array([11.15954898]),\n",
       " array([11.24800435]),\n",
       " array([11.49564368]),\n",
       " array([11.27216736]),\n",
       " array([11.06699254]),\n",
       " array([10.99306569]),\n",
       " array([11.24533929]),\n",
       " array([11.08750036]),\n",
       " array([11.53379941]),\n",
       " array([11.11233821]),\n",
       " array([11.17433396]),\n",
       " array([11.06699254]),\n",
       " array([11.15067879]),\n",
       " array([11.40769452]),\n",
       " array([10.95540912]),\n",
       " array([11.10107466]),\n",
       " array([10.90054351]),\n",
       " array([11.22762244]),\n",
       " array([11.49824577]),\n",
       " array([11.09191816]),\n",
       " array([11.9936279]),\n",
       " array([12.00309157]),\n",
       " array([11.18271194]),\n",
       " array([10.93515513]),\n",
       " array([11.66738809]),\n",
       " array([10.99306569]),\n",
       " array([11.27504257]),\n",
       " array([11.43478891]),\n",
       " array([11.25925377]),\n",
       " array([11.17624155]),\n",
       " array([10.98329649]),\n",
       " array([11.05343879]),\n",
       " array([10.93515513]),\n",
       " array([11.60848373]),\n",
       " array([11.24715946]),\n",
       " array([11.0869482]),\n",
       " array([11.4430737]),\n",
       " array([11.04439965]),\n",
       " array([11.22675389]),\n",
       " array([11.1654378]),\n",
       " array([11.01370705]),\n",
       " array([11.33074762]),\n",
       " array([10.95544394]),\n",
       " array([11.22762244]),\n",
       " array([11.62432762]),\n",
       " array([11.21186695]),\n",
       " array([11.11233821]),\n",
       " array([11.35677703]),\n",
       " array([11.49564368]),\n",
       " array([11.03558876]),\n",
       " array([11.49564368]),\n",
       " array([10.99306569]),\n",
       " array([11.22762244]),\n",
       " array([10.99306569]),\n",
       " array([11.01862229]),\n",
       " array([10.9414828]),\n",
       " array([10.90054351]),\n",
       " array([11.04041186]),\n",
       " array([11.20982625]),\n",
       " array([11.31785573]),\n",
       " array([11.3085626]),\n",
       " array([11.31207713]),\n",
       " array([11.49564368]),\n",
       " array([11.3085626]),\n",
       " array([11.09540735]),\n",
       " array([11.2729093]),\n",
       " array([11.2729093]),\n",
       " array([11.04893476]),\n",
       " array([11.08750036]),\n",
       " array([11.22762244]),\n",
       " array([11.32687091]),\n",
       " array([11.22386908]),\n",
       " array([11.62432762]),\n",
       " array([11.35714014]),\n",
       " array([11.58730143]),\n",
       " array([11.29760824]),\n",
       " array([11.47366978]),\n",
       " array([11.39609639]),\n",
       " array([11.29760824]),\n",
       " array([11.49564368]),\n",
       " array([11.66538356]),\n",
       " array([11.48349]),\n",
       " array([11.17517239]),\n",
       " array([11.26060442]),\n",
       " array([11.21186695]),\n",
       " array([11.11233821]),\n",
       " array([11.49564368]),\n",
       " array([11.29960701]),\n",
       " array([11.24773127]),\n",
       " array([11.27216736]),\n",
       " array([11.18843742]),\n",
       " array([11.32104288]),\n",
       " array([11.4478818]),\n",
       " array([11.53730905]),\n",
       " array([11.05305603]),\n",
       " array([11.17624155]),\n",
       " array([11.22762244]),\n",
       " array([11.53730905]),\n",
       " array([11.05893315]),\n",
       " array([11.09066002]),\n",
       " array([11.14787082]),\n",
       " array([11.29760824]),\n",
       " array([11.09066002]),\n",
       " array([11.27081997]),\n",
       " array([11.09066002]),\n",
       " array([11.03745008]),\n",
       " array([11.24533929]),\n",
       " array([11.42642316]),\n",
       " array([11.18307617]),\n",
       " array([11.03745008]),\n",
       " array([11.03745008]),\n",
       " array([11.25761449]),\n",
       " array([11.17736688]),\n",
       " array([11.28610952]),\n",
       " array([11.25925377]),\n",
       " array([11.26933575]),\n",
       " array([11.28505894]),\n",
       " array([11.29860325]),\n",
       " array([12.07737242]),\n",
       " array([12.07737242]),\n",
       " array([11.3151896]),\n",
       " array([11.33629911]),\n",
       " array([11.33503498]),\n",
       " array([11.35970562]),\n",
       " array([11.11645024]),\n",
       " array([11.82811063]),\n",
       " array([11.82811063]),\n",
       " array([10.89258793]),\n",
       " array([10.84687342]),\n",
       " array([10.8039025]),\n",
       " array([11.00558882]),\n",
       " array([10.84441092]),\n",
       " array([10.95176851]),\n",
       " array([10.96512756]),\n",
       " array([10.83599406]),\n",
       " array([10.96607855]),\n",
       " array([11.0047842]),\n",
       " array([10.94966219]),\n",
       " array([11.001114]),\n",
       " array([10.954598]),\n",
       " array([11.14867336]),\n",
       " array([11.001114]),\n",
       " array([10.94966219]),\n",
       " array([11.1483453]),\n",
       " array([12.23651233]),\n",
       " array([12.23651233]),\n",
       " array([12.17126532]),\n",
       " array([10.93881989]),\n",
       " array([10.79397102]),\n",
       " array([10.72087718]),\n",
       " array([11.00558882]),\n",
       " array([10.83394169]),\n",
       " array([10.97780176]),\n",
       " array([10.84753672]),\n",
       " array([11.07391436]),\n",
       " array([10.9480486]),\n",
       " array([11.0139928]),\n",
       " array([10.96917421]),\n",
       " array([10.90615687]),\n",
       " array([10.91830759]),\n",
       " array([11.03819078]),\n",
       " array([11.08751223]),\n",
       " array([11.04990489]),\n",
       " array([11.02397771]),\n",
       " array([11.00301668]),\n",
       " array([11.0183746]),\n",
       " array([10.90736167]),\n",
       " array([11.08751223]),\n",
       " array([11.0184095]),\n",
       " array([10.97825274]),\n",
       " array([11.13489214]),\n",
       " array([11.03819078]),\n",
       " array([11.04990489]),\n",
       " array([11.0139928]),\n",
       " array([10.97825274]),\n",
       " array([11.192352]),\n",
       " array([11.0080804]),\n",
       " array([11.0139928]),\n",
       " array([11.13490595]),\n",
       " array([11.12922647]),\n",
       " array([11.13490595]),\n",
       " array([10.97825274]),\n",
       " array([10.96917421]),\n",
       " array([11.192352]),\n",
       " array([11.0139928]),\n",
       " array([11.13490595]),\n",
       " array([11.01811961]),\n",
       " array([11.02640559]),\n",
       " array([12.17126532]),\n",
       " array([11.48071327]),\n",
       " array([11.21168523]),\n",
       " array([11.21168523]),\n",
       " array([11.21168523]),\n",
       " array([11.21168523]),\n",
       " array([11.21168523]),\n",
       " array([11.21168523]),\n",
       " array([11.13684723]),\n",
       " array([11.20712251]),\n",
       " array([11.39912903]),\n",
       " array([11.30467706]),\n",
       " array([11.39219176]),\n",
       " array([11.45461478]),\n",
       " array([11.22181338]),\n",
       " array([11.29462361]),\n",
       " array([11.47133176]),\n",
       " array([11.46655225]),\n",
       " array([11.39917507]),\n",
       " array([11.0330544]),\n",
       " array([11.58180263]),\n",
       " array([11.49549146]),\n",
       " array([11.38966301]),\n",
       " array([11.58180263]),\n",
       " array([11.25881553]),\n",
       " array([11.42110063]),\n",
       " array([11.46436597]),\n",
       " array([11.56748021]),\n",
       " array([11.30928232]),\n",
       " array([11.4229604]),\n",
       " array([12.29404318]),\n",
       " array([11.26561037]),\n",
       " array([11.65558878]),\n",
       " array([11.45826029]),\n",
       " array([11.45501006]),\n",
       " array([11.42110063]),\n",
       " array([11.90628466]),\n",
       " array([11.54803341]),\n",
       " array([11.20588021]),\n",
       " array([11.8487693]),\n",
       " array([11.95546567]),\n",
       " array([11.65689561]),\n",
       " array([11.58180263]),\n",
       " array([11.54473555]),\n",
       " array([11.52831126]),\n",
       " array([11.44683221]),\n",
       " array([12.23151952]),\n",
       " array([11.5020762]),\n",
       " array([11.71605827]),\n",
       " array([11.89170215]),\n",
       " array([11.61422843]),\n",
       " array([12.16467729]),\n",
       " array([11.6004449]),\n",
       " array([11.49549146]),\n",
       " array([11.28751241]),\n",
       " array([11.25030695]),\n",
       " array([11.5346128]),\n",
       " array([11.60681362]),\n",
       " array([11.63887976]),\n",
       " array([11.53455537]),\n",
       " array([11.81004837]),\n",
       " array([11.54711791]),\n",
       " array([11.67137246]),\n",
       " array([11.98692359]),\n",
       " array([11.87836358]),\n",
       " array([11.62989614]),\n",
       " array([11.98796877]),\n",
       " array([11.88748203]),\n",
       " array([11.63042082]),\n",
       " array([11.86136387]),\n",
       " array([12.42088909]),\n",
       " array([11.69979926]),\n",
       " array([11.69979926]),\n",
       " array([11.95639776]),\n",
       " array([11.84242207]),\n",
       " array([11.89858961]),\n",
       " array([11.88715985]),\n",
       " array([11.78264834]),\n",
       " array([12.00184238]),\n",
       " array([11.54655692]),\n",
       " array([11.97982491]),\n",
       " array([11.89858961]),\n",
       " array([11.59740007]),\n",
       " array([11.63887976]),\n",
       " array([11.83308538]),\n",
       " array([11.93230458]),\n",
       " array([12.21726704]),\n",
       " array([11.79225834]),\n",
       " array([12.03244191]),\n",
       " array([12.03244191]),\n",
       " array([11.70751198]),\n",
       " array([12.03244191]),\n",
       " array([11.89858961]),\n",
       " array([11.20323437]),\n",
       " array([11.47294757]),\n",
       " array([11.7146145]),\n",
       " array([11.82424098]),\n",
       " array([12.17400849]),\n",
       " array([12.04508716]),\n",
       " array([12.20579634]),\n",
       " array([11.37846184]),\n",
       " array([11.66578691]),\n",
       " array([11.23342909]),\n",
       " array([11.21177358]),\n",
       " array([11.3507978]),\n",
       " array([11.66365289]),\n",
       " array([11.8592331]),\n",
       " array([11.42740203]),\n",
       " array([11.48584383]),\n",
       " array([11.63736032]),\n",
       " array([11.97583722]),\n",
       " array([11.96815021]),\n",
       " array([12.04027374]),\n",
       " array([12.53673065]),\n",
       " array([12.39221904]),\n",
       " array([12.08978035]),\n",
       " array([12.46589304]),\n",
       " array([12.69234505]),\n",
       " array([11.48259292]),\n",
       " array([12.23651233]),\n",
       " array([11.48259292]),\n",
       " array([11.85545238]),\n",
       " array([11.49852044]),\n",
       " array([11.49852044]),\n",
       " array([11.64042333]),\n",
       " array([11.49852044]),\n",
       " array([11.64042333]),\n",
       " array([11.64042333]),\n",
       " array([11.49852044]),\n",
       " array([12.03552929]),\n",
       " array([11.59995716]),\n",
       " array([11.59995716]),\n",
       " array([11.59995716]),\n",
       " array([11.59995716]),\n",
       " array([11.59995716]),\n",
       " array([12.03552929]),\n",
       " array([12.03552929]),\n",
       " array([12.03552929]),\n",
       " array([11.73598901]),\n",
       " array([11.59995716]),\n",
       " array([11.9183239]),\n",
       " array([12.27621737]),\n",
       " array([12.27621737]),\n",
       " array([12.27621737]),\n",
       " array([12.27621737]),\n",
       " array([12.27621737]),\n",
       " array([10.69883793]),\n",
       " array([10.86304437]),\n",
       " array([10.98915115]),\n",
       " array([10.49118829]),\n",
       " array([10.45915768]),\n",
       " array([10.43195165]),\n",
       " array([10.46483857]),\n",
       " array([10.45915768]),\n",
       " array([10.49474762]),\n",
       " array([10.25427934]),\n",
       " array([10.18530105]),\n",
       " array([10.18530105]),\n",
       " array([10.33472012]),\n",
       " array([10.5667224]),\n",
       " array([10.51098188]),\n",
       " array([10.57116088]),\n",
       " array([10.57116088]),\n",
       " array([10.59136864]),\n",
       " array([10.46485976]),\n",
       " array([10.57116088]),\n",
       " array([10.5207731]),\n",
       " array([10.46485976]),\n",
       " array([10.5240386]),\n",
       " array([10.66521231]),\n",
       " array([10.65656257]),\n",
       " array([10.50991505]),\n",
       " array([10.66212006]),\n",
       " array([10.62728107]),\n",
       " array([10.64549373]),\n",
       " array([10.56061756]),\n",
       " array([10.55595729]),\n",
       " array([10.56730574]),\n",
       " array([10.74949186]),\n",
       " array([10.67078053]),\n",
       " array([10.67078053]),\n",
       " array([10.52151378]),\n",
       " array([10.65273048]),\n",
       " array([10.56730574]),\n",
       " array([10.64186891]),\n",
       " array([10.66037822]),\n",
       " array([10.69707714]),\n",
       " array([10.66037822]),\n",
       " array([10.69707714]),\n",
       " array([10.81367132]),\n",
       " array([10.7301875]),\n",
       " array([11.03828999]),\n",
       " array([11.02258831]),\n",
       " array([10.8560498]),\n",
       " array([10.860903]),\n",
       " array([10.86942995]),\n",
       " array([10.860903]),\n",
       " array([10.93986445]),\n",
       " array([10.89333604]),\n",
       " array([10.76006827]),\n",
       " array([11.04667474]),\n",
       " array([11.06580752]),\n",
       " array([10.82474274]),\n",
       " array([11.03828999]),\n",
       " array([11.09339218]),\n",
       " array([11.03828999]),\n",
       " array([10.88901826]),\n",
       " array([11.06380445]),\n",
       " array([10.86928757]),\n",
       " array([11.18435399]),\n",
       " array([11.01879303]),\n",
       " array([10.860903]),\n",
       " array([11.0438086]),\n",
       " array([11.03828999]),\n",
       " array([11.11169302]),\n",
       " array([11.41520694]),\n",
       " array([11.10650323]),\n",
       " array([10.82459492]),\n",
       " array([10.88901826]),\n",
       " array([10.88901826]),\n",
       " array([11.23058481]),\n",
       " array([10.85782856]),\n",
       " array([11.31609591]),\n",
       " array([11.26743421]),\n",
       " array([11.12068158]),\n",
       " array([11.1082596]),\n",
       " array([11.22594904]),\n",
       " array([10.89503698]),\n",
       " array([11.22073026]),\n",
       " array([10.98772186]),\n",
       " array([10.82694018]),\n",
       " array([10.89503698]),\n",
       " array([11.16081543]),\n",
       " array([11.40126671]),\n",
       " array([10.87956289]),\n",
       " array([10.82694018]),\n",
       " array([10.91309721]),\n",
       " array([10.99640124]),\n",
       " array([10.89503698]),\n",
       " array([10.89319915]),\n",
       " array([10.99640124]),\n",
       " array([11.12068158]),\n",
       " array([10.99614887]),\n",
       " array([10.89503698]),\n",
       " array([11.24257723]),\n",
       " array([10.860903]),\n",
       " array([11.16150619]),\n",
       " array([11.06380445]),\n",
       " array([11.06474496]),\n",
       " array([10.99556882]),\n",
       " array([11.27650514]),\n",
       " array([10.96515912]),\n",
       " array([10.84183549]),\n",
       " array([10.90953889]),\n",
       " array([11.1163838]),\n",
       " array([10.90953889]),\n",
       " array([10.90761316]),\n",
       " array([11.0459282]),\n",
       " array([11.03800959]),\n",
       " array([10.87969901]),\n",
       " array([10.76082978]),\n",
       " array([10.81434889]),\n",
       " array([10.73561992]),\n",
       " array([11.31278134]),\n",
       " array([11.28366326]),\n",
       " array([11.1929793]),\n",
       " array([11.1929793]),\n",
       " array([11.48229137]),\n",
       " array([11.25263877]),\n",
       " array([11.37453404]),\n",
       " array([11.30216248]),\n",
       " array([11.59648221]),\n",
       " array([11.02417328]),\n",
       " array([11.25358172]),\n",
       " array([11.02417328]),\n",
       " array([11.14415179]),\n",
       " array([11.07522495]),\n",
       " array([11.45070227]),\n",
       " array([11.38254082]),\n",
       " array([11.02417328]),\n",
       " array([11.07522495]),\n",
       " array([11.08903046]),\n",
       " array([11.25400082]),\n",
       " array([11.24809577]),\n",
       " array([11.06895427]),\n",
       " array([11.60306738]),\n",
       " array([11.49767172]),\n",
       " array([11.35695862]),\n",
       " array([11.26768815]),\n",
       " array([11.2687742]),\n",
       " array([11.45070227]),\n",
       " array([11.25400082]),\n",
       " array([11.35563493]),\n",
       " array([11.08903046]),\n",
       " array([11.35995933]),\n",
       " array([11.26310189]),\n",
       " array([11.32673868]),\n",
       " array([11.57871057]),\n",
       " array([11.32172218]),\n",
       " array([11.41475902]),\n",
       " array([11.36031444]),\n",
       " array([11.57925076]),\n",
       " array([11.63620103]),\n",
       " array([11.51853281]),\n",
       " array([11.44964032]),\n",
       " array([11.66097554]),\n",
       " array([11.36886677]),\n",
       " array([11.67033294]),\n",
       " array([11.36886677]),\n",
       " array([11.61483325]),\n",
       " array([11.31004091]),\n",
       " array([11.36886677]),\n",
       " array([11.47188224]),\n",
       " array([11.36886677]),\n",
       " array([11.42029276]),\n",
       " array([11.26782515]),\n",
       " array([11.39143618]),\n",
       " array([11.31572117]),\n",
       " array([11.23882549]),\n",
       " array([11.84903109]),\n",
       " array([11.87621796]),\n",
       " array([12.07754988]),\n",
       " array([11.74656624]),\n",
       " array([11.84903109]),\n",
       " array([11.65580163]),\n",
       " array([11.86036282]),\n",
       " array([11.75540212]),\n",
       " array([11.87248134]),\n",
       " array([11.87248134]),\n",
       " array([11.67561814]),\n",
       " array([11.84465694]),\n",
       " array([11.75540212]),\n",
       " array([11.87248134]),\n",
       " array([11.75540212]),\n",
       " array([11.87248134]),\n",
       " array([11.82175466]),\n",
       " array([11.93009934]),\n",
       " array([11.75540212]),\n",
       " array([11.72377446]),\n",
       " array([11.83016444]),\n",
       " array([11.87248134]),\n",
       " array([11.75540212]),\n",
       " array([11.75540212]),\n",
       " array([11.93009934]),\n",
       " array([11.93009934]),\n",
       " array([10.97821571])]"
      ]
     },
     "execution_count": 65,
     "metadata": {},
     "output_type": "execute_result"
    }
   ],
   "source": [
    "predicted = []\n",
    "testtrain = np.array(x)\n",
    "for i in range(len(testtrain)):\n",
    "    predicted.append(rfr.predict([testtrain[i]]))\n",
    "    \n",
    "predicted"
   ]
  },
  {
   "cell_type": "code",
   "execution_count": 66,
   "id": "4aa3e9f6",
   "metadata": {
    "execution": {
     "iopub.execute_input": "2023-11-27T22:12:59.651265Z",
     "iopub.status.busy": "2023-11-27T22:12:59.650607Z",
     "iopub.status.idle": "2023-11-27T22:12:59.656655Z",
     "shell.execute_reply": "2023-11-27T22:12:59.655898Z"
    },
    "papermill": {
     "duration": 0.040243,
     "end_time": "2023-11-27T22:12:59.658683",
     "exception": false,
     "start_time": "2023-11-27T22:12:59.618440",
     "status": "completed"
    },
    "tags": []
   },
   "outputs": [],
   "source": [
    "ans = [np.exp(predicted[i][0]) for i in range(len(predicted))]"
   ]
  },
  {
   "cell_type": "code",
   "execution_count": 67,
   "id": "3f528f17",
   "metadata": {
    "execution": {
     "iopub.execute_input": "2023-11-27T22:12:59.725320Z",
     "iopub.status.busy": "2023-11-27T22:12:59.724604Z",
     "iopub.status.idle": "2023-11-27T22:12:59.730907Z",
     "shell.execute_reply": "2023-11-27T22:12:59.730082Z"
    },
    "papermill": {
     "duration": 0.042201,
     "end_time": "2023-11-27T22:12:59.732947",
     "exception": false,
     "start_time": "2023-11-27T22:12:59.690746",
     "status": "completed"
    },
    "tags": []
   },
   "outputs": [],
   "source": [
    "rounded_prices = [round(pred) for pred in ans]"
   ]
  },
  {
   "cell_type": "code",
   "execution_count": 68,
   "id": "9a11a5b3",
   "metadata": {
    "execution": {
     "iopub.execute_input": "2023-11-27T22:12:59.798808Z",
     "iopub.status.busy": "2023-11-27T22:12:59.798135Z",
     "iopub.status.idle": "2023-11-27T22:12:59.820824Z",
     "shell.execute_reply": "2023-11-27T22:12:59.819551Z"
    },
    "papermill": {
     "duration": 0.058395,
     "end_time": "2023-11-27T22:12:59.823246",
     "exception": false,
     "start_time": "2023-11-27T22:12:59.764851",
     "status": "completed"
    },
    "tags": []
   },
   "outputs": [
    {
     "data": {
      "text/html": [
       "<div>\n",
       "<style scoped>\n",
       "    .dataframe tbody tr th:only-of-type {\n",
       "        vertical-align: middle;\n",
       "    }\n",
       "\n",
       "    .dataframe tbody tr th {\n",
       "        vertical-align: top;\n",
       "    }\n",
       "\n",
       "    .dataframe thead th {\n",
       "        text-align: right;\n",
       "    }\n",
       "</style>\n",
       "<table border=\"1\" class=\"dataframe\">\n",
       "  <thead>\n",
       "    <tr style=\"text-align: right;\">\n",
       "      <th></th>\n",
       "      <th>brand</th>\n",
       "      <th>processor_brand</th>\n",
       "      <th>processor_name</th>\n",
       "      <th>processor_gnrtn</th>\n",
       "      <th>ram_gb</th>\n",
       "      <th>ram_type</th>\n",
       "      <th>ssd</th>\n",
       "      <th>hdd</th>\n",
       "      <th>os</th>\n",
       "      <th>os_bit</th>\n",
       "      <th>graphic_card_gb</th>\n",
       "      <th>weight</th>\n",
       "      <th>warranty</th>\n",
       "      <th>Touchscreen</th>\n",
       "      <th>Price</th>\n",
       "      <th>Predicted Price</th>\n",
       "    </tr>\n",
       "  </thead>\n",
       "  <tbody>\n",
       "    <tr>\n",
       "      <th>0</th>\n",
       "      <td>ASUS</td>\n",
       "      <td>Intel</td>\n",
       "      <td>Core i3</td>\n",
       "      <td>10</td>\n",
       "      <td>4</td>\n",
       "      <td>DDR4</td>\n",
       "      <td>0</td>\n",
       "      <td>1024</td>\n",
       "      <td>Windows</td>\n",
       "      <td>64</td>\n",
       "      <td>0</td>\n",
       "      <td>Casual</td>\n",
       "      <td>No warranty</td>\n",
       "      <td>No</td>\n",
       "      <td>34649</td>\n",
       "      <td>35957</td>\n",
       "    </tr>\n",
       "    <tr>\n",
       "      <th>1</th>\n",
       "      <td>Lenovo</td>\n",
       "      <td>Intel</td>\n",
       "      <td>Core i3</td>\n",
       "      <td>10</td>\n",
       "      <td>4</td>\n",
       "      <td>DDR4</td>\n",
       "      <td>0</td>\n",
       "      <td>1024</td>\n",
       "      <td>Windows</td>\n",
       "      <td>64</td>\n",
       "      <td>0</td>\n",
       "      <td>Casual</td>\n",
       "      <td>No warranty</td>\n",
       "      <td>No</td>\n",
       "      <td>38999</td>\n",
       "      <td>39428</td>\n",
       "    </tr>\n",
       "    <tr>\n",
       "      <th>2</th>\n",
       "      <td>Lenovo</td>\n",
       "      <td>Intel</td>\n",
       "      <td>Core i3</td>\n",
       "      <td>10</td>\n",
       "      <td>4</td>\n",
       "      <td>DDR4</td>\n",
       "      <td>0</td>\n",
       "      <td>1024</td>\n",
       "      <td>Windows</td>\n",
       "      <td>64</td>\n",
       "      <td>0</td>\n",
       "      <td>Casual</td>\n",
       "      <td>No warranty</td>\n",
       "      <td>No</td>\n",
       "      <td>39999</td>\n",
       "      <td>39428</td>\n",
       "    </tr>\n",
       "    <tr>\n",
       "      <th>3</th>\n",
       "      <td>ASUS</td>\n",
       "      <td>Intel</td>\n",
       "      <td>Core i5</td>\n",
       "      <td>10</td>\n",
       "      <td>8</td>\n",
       "      <td>DDR4</td>\n",
       "      <td>512</td>\n",
       "      <td>0</td>\n",
       "      <td>Windows</td>\n",
       "      <td>32</td>\n",
       "      <td>2</td>\n",
       "      <td>Casual</td>\n",
       "      <td>No warranty</td>\n",
       "      <td>No</td>\n",
       "      <td>69990</td>\n",
       "      <td>74270</td>\n",
       "    </tr>\n",
       "    <tr>\n",
       "      <th>4</th>\n",
       "      <td>ASUS</td>\n",
       "      <td>Intel</td>\n",
       "      <td>Celeron Dual</td>\n",
       "      <td>11</td>\n",
       "      <td>4</td>\n",
       "      <td>DDR4</td>\n",
       "      <td>0</td>\n",
       "      <td>512</td>\n",
       "      <td>Windows</td>\n",
       "      <td>64</td>\n",
       "      <td>0</td>\n",
       "      <td>Casual</td>\n",
       "      <td>No warranty</td>\n",
       "      <td>No</td>\n",
       "      <td>26990</td>\n",
       "      <td>24253</td>\n",
       "    </tr>\n",
       "    <tr>\n",
       "      <th>...</th>\n",
       "      <td>...</td>\n",
       "      <td>...</td>\n",
       "      <td>...</td>\n",
       "      <td>...</td>\n",
       "      <td>...</td>\n",
       "      <td>...</td>\n",
       "      <td>...</td>\n",
       "      <td>...</td>\n",
       "      <td>...</td>\n",
       "      <td>...</td>\n",
       "      <td>...</td>\n",
       "      <td>...</td>\n",
       "      <td>...</td>\n",
       "      <td>...</td>\n",
       "      <td>...</td>\n",
       "      <td>...</td>\n",
       "    </tr>\n",
       "    <tr>\n",
       "      <th>818</th>\n",
       "      <td>ASUS</td>\n",
       "      <td>AMD</td>\n",
       "      <td>Ryzen 9</td>\n",
       "      <td>11</td>\n",
       "      <td>4</td>\n",
       "      <td>DDR4</td>\n",
       "      <td>1024</td>\n",
       "      <td>0</td>\n",
       "      <td>Windows</td>\n",
       "      <td>64</td>\n",
       "      <td>0</td>\n",
       "      <td>Casual</td>\n",
       "      <td>1</td>\n",
       "      <td>No</td>\n",
       "      <td>135990</td>\n",
       "      <td>127440</td>\n",
       "    </tr>\n",
       "    <tr>\n",
       "      <th>819</th>\n",
       "      <td>ASUS</td>\n",
       "      <td>AMD</td>\n",
       "      <td>Ryzen 9</td>\n",
       "      <td>11</td>\n",
       "      <td>4</td>\n",
       "      <td>DDR4</td>\n",
       "      <td>1024</td>\n",
       "      <td>0</td>\n",
       "      <td>Windows</td>\n",
       "      <td>64</td>\n",
       "      <td>0</td>\n",
       "      <td>Casual</td>\n",
       "      <td>1</td>\n",
       "      <td>No</td>\n",
       "      <td>144990</td>\n",
       "      <td>127440</td>\n",
       "    </tr>\n",
       "    <tr>\n",
       "      <th>820</th>\n",
       "      <td>ASUS</td>\n",
       "      <td>AMD</td>\n",
       "      <td>Ryzen 9</td>\n",
       "      <td>11</td>\n",
       "      <td>4</td>\n",
       "      <td>DDR4</td>\n",
       "      <td>1024</td>\n",
       "      <td>0</td>\n",
       "      <td>Windows</td>\n",
       "      <td>64</td>\n",
       "      <td>4</td>\n",
       "      <td>Casual</td>\n",
       "      <td>1</td>\n",
       "      <td>No</td>\n",
       "      <td>149990</td>\n",
       "      <td>151767</td>\n",
       "    </tr>\n",
       "    <tr>\n",
       "      <th>821</th>\n",
       "      <td>ASUS</td>\n",
       "      <td>AMD</td>\n",
       "      <td>Ryzen 9</td>\n",
       "      <td>11</td>\n",
       "      <td>4</td>\n",
       "      <td>DDR4</td>\n",
       "      <td>1024</td>\n",
       "      <td>0</td>\n",
       "      <td>Windows</td>\n",
       "      <td>64</td>\n",
       "      <td>4</td>\n",
       "      <td>Casual</td>\n",
       "      <td>1</td>\n",
       "      <td>No</td>\n",
       "      <td>142990</td>\n",
       "      <td>151767</td>\n",
       "    </tr>\n",
       "    <tr>\n",
       "      <th>822</th>\n",
       "      <td>Lenovo</td>\n",
       "      <td>AMD</td>\n",
       "      <td>Ryzen 5</td>\n",
       "      <td>10</td>\n",
       "      <td>8</td>\n",
       "      <td>DDR4</td>\n",
       "      <td>512</td>\n",
       "      <td>0</td>\n",
       "      <td>DOS</td>\n",
       "      <td>64</td>\n",
       "      <td>0</td>\n",
       "      <td>ThinNlight</td>\n",
       "      <td>No warranty</td>\n",
       "      <td>No</td>\n",
       "      <td>57490</td>\n",
       "      <td>58584</td>\n",
       "    </tr>\n",
       "  </tbody>\n",
       "</table>\n",
       "<p>823 rows × 16 columns</p>\n",
       "</div>"
      ],
      "text/plain": [
       "      brand processor_brand processor_name  processor_gnrtn  ram_gb ram_type  \\\n",
       "0      ASUS           Intel        Core i3               10       4     DDR4   \n",
       "1    Lenovo           Intel        Core i3               10       4     DDR4   \n",
       "2    Lenovo           Intel        Core i3               10       4     DDR4   \n",
       "3      ASUS           Intel        Core i5               10       8     DDR4   \n",
       "4      ASUS           Intel   Celeron Dual               11       4     DDR4   \n",
       "..      ...             ...            ...              ...     ...      ...   \n",
       "818    ASUS             AMD        Ryzen 9               11       4     DDR4   \n",
       "819    ASUS             AMD        Ryzen 9               11       4     DDR4   \n",
       "820    ASUS             AMD        Ryzen 9               11       4     DDR4   \n",
       "821    ASUS             AMD        Ryzen 9               11       4     DDR4   \n",
       "822  Lenovo             AMD        Ryzen 5               10       8     DDR4   \n",
       "\n",
       "      ssd   hdd       os  os_bit  graphic_card_gb      weight     warranty  \\\n",
       "0       0  1024  Windows      64                0      Casual  No warranty   \n",
       "1       0  1024  Windows      64                0      Casual  No warranty   \n",
       "2       0  1024  Windows      64                0      Casual  No warranty   \n",
       "3     512     0  Windows      32                2      Casual  No warranty   \n",
       "4       0   512  Windows      64                0      Casual  No warranty   \n",
       "..    ...   ...      ...     ...              ...         ...          ...   \n",
       "818  1024     0  Windows      64                0      Casual           1    \n",
       "819  1024     0  Windows      64                0      Casual           1    \n",
       "820  1024     0  Windows      64                4      Casual           1    \n",
       "821  1024     0  Windows      64                4      Casual           1    \n",
       "822   512     0      DOS      64                0  ThinNlight  No warranty   \n",
       "\n",
       "    Touchscreen   Price  Predicted Price  \n",
       "0            No   34649            35957  \n",
       "1            No   38999            39428  \n",
       "2            No   39999            39428  \n",
       "3            No   69990            74270  \n",
       "4            No   26990            24253  \n",
       "..          ...     ...              ...  \n",
       "818          No  135990           127440  \n",
       "819          No  144990           127440  \n",
       "820          No  149990           151767  \n",
       "821          No  142990           151767  \n",
       "822          No   57490            58584  \n",
       "\n",
       "[823 rows x 16 columns]"
      ]
     },
     "execution_count": 68,
     "metadata": {},
     "output_type": "execute_result"
    }
   ],
   "source": [
    "df_train['Predicted Price'] = np.array(rounded_prices)\n",
    "df_train"
   ]
  },
  {
   "cell_type": "code",
   "execution_count": 69,
   "id": "26fec5ee",
   "metadata": {
    "execution": {
     "iopub.execute_input": "2023-11-27T22:12:59.903289Z",
     "iopub.status.busy": "2023-11-27T22:12:59.902908Z",
     "iopub.status.idle": "2023-11-27T22:13:00.212354Z",
     "shell.execute_reply": "2023-11-27T22:13:00.211111Z"
    },
    "papermill": {
     "duration": 0.346205,
     "end_time": "2023-11-27T22:13:00.214834",
     "exception": false,
     "start_time": "2023-11-27T22:12:59.868629",
     "status": "completed"
    },
    "tags": []
   },
   "outputs": [
    {
     "data": {
      "image/png": "[encoded data removed]",
      "text/plain": [
       "<Figure size 640x480 with 1 Axes>"
      ]
     },
     "metadata": {},
     "output_type": "display_data"
    }
   ],
   "source": [
    "sns.distplot(df_train['Price'],hist=False,color='orange',label='Actual')\n",
    "sns.distplot(df_train['Predicted Price'],hist=False,color='blue',label='Predicted')\n",
    "plt.legend()\n",
    "plt.show()"
   ]
  }
 ],
 "metadata": {
  "kaggle": {
   "accelerator": "none",
   "dataSources": [
    {
     "datasetId": 3234210,
     "sourceId": 5625277,
     "sourceType": "datasetVersion"
    }
   ],
   "dockerImageVersionId": 30558,
   "isGpuEnabled": false,
   "isInternetEnabled": false,
   "language": "python",
   "sourceType": "notebook"
  },
  "kernelspec": {
   "display_name": "Python 3",
   "language": "python",
   "name": "python3"
  },
  "language_info": {
   "codemirror_mode": {
    "name": "ipython",
    "version": 3
   },
   "file_extension": ".py",
   "mimetype": "text/x-python",
   "name": "python",
   "nbconvert_exporter": "python",
   "pygments_lexer": "ipython3",
   "version": "3.12.4"
  },
  "papermill": {
   "default_parameters": {},
   "duration": 28.429165,
   "end_time": "2023-11-27T22:13:00.969101",
   "environment_variables": {},
   "exception": null,
   "input_path": "__notebook__.ipynb",
   "output_path": "__notebook__.ipynb",
   "parameters": {},
   "start_time": "2023-11-27T22:12:32.539936",
   "version": "2.4.0"
  }
 },
 "nbformat": 4,
 "nbformat_minor": 5
}
